{
 "cells": [
  {
   "cell_type": "markdown",
   "metadata": {},
   "source": [
    "notes"
   ]
  },
  {
   "cell_type": "code",
   "execution_count": 1,
   "metadata": {},
   "outputs": [
    {
     "data": {
      "text/plain": [
       "123"
      ]
     },
     "execution_count": 1,
     "metadata": {},
     "output_type": "execute_result"
    }
   ],
   "source": [
    "123"
   ]
  },
  {
   "cell_type": "code",
   "execution_count": 4,
   "metadata": {},
   "outputs": [
    {
     "name": "stdout",
     "output_type": "stream",
     "text": [
      "<class 'int'>\n"
     ]
    }
   ],
   "source": [
    "print(type(123))"
   ]
  },
  {
   "cell_type": "markdown",
   "metadata": {},
   "source": [
    "variable"
   ]
  },
  {
   "cell_type": "code",
   "execution_count": 5,
   "metadata": {},
   "outputs": [],
   "source": [
    "num = 201"
   ]
  },
  {
   "cell_type": "code",
   "execution_count": 6,
   "metadata": {},
   "outputs": [
    {
     "name": "stdout",
     "output_type": "stream",
     "text": [
      "201\n"
     ]
    }
   ],
   "source": [
    "print(num)"
   ]
  },
  {
   "cell_type": "code",
   "execution_count": 8,
   "metadata": {},
   "outputs": [],
   "source": [
    "num = num + 1"
   ]
  },
  {
   "cell_type": "code",
   "execution_count": 9,
   "metadata": {},
   "outputs": [
    {
     "name": "stdout",
     "output_type": "stream",
     "text": [
      "202\n"
     ]
    }
   ],
   "source": [
    "print(num)"
   ]
  },
  {
   "cell_type": "code",
   "execution_count": 12,
   "metadata": {},
   "outputs": [
    {
     "name": "stdout",
     "output_type": "stream",
     "text": [
      "1\n"
     ]
    }
   ],
   "source": [
    "a = 0\n",
    "a = a + 1\n",
    "print(a)"
   ]
  },
  {
   "cell_type": "markdown",
   "metadata": {},
   "source": [
    "tipe data:\n",
    "- int\n",
    "- float\n",
    "- str\n",
    "- bool"
   ]
  },
  {
   "cell_type": "code",
   "execution_count": 13,
   "metadata": {},
   "outputs": [
    {
     "data": {
      "text/plain": [
       "15.5"
      ]
     },
     "execution_count": 13,
     "metadata": {},
     "output_type": "execute_result"
    }
   ],
   "source": [
    "123 # integer, angka bulat\n",
    "15.5 # float, angka tidak bulat"
   ]
  },
  {
   "cell_type": "code",
   "execution_count": 14,
   "metadata": {},
   "outputs": [
    {
     "name": "stdout",
     "output_type": "stream",
     "text": [
      "<class 'float'>\n"
     ]
    }
   ],
   "source": [
    "print (type (15.5))"
   ]
  },
  {
   "cell_type": "code",
   "execution_count": 15,
   "metadata": {},
   "outputs": [
    {
     "name": "stdout",
     "output_type": "stream",
     "text": [
      "<class 'str'>\n"
     ]
    }
   ],
   "source": [
    "msg = \"halo\"\n",
    "print (type (msg))"
   ]
  },
  {
   "cell_type": "code",
   "execution_count": 16,
   "metadata": {},
   "outputs": [
    {
     "name": "stdout",
     "output_type": "stream",
     "text": [
      "halo selamat malam!\n"
     ]
    }
   ],
   "source": [
    "msg = msg + \" selamat malam!\"\n",
    "print(msg)"
   ]
  },
  {
   "cell_type": "code",
   "execution_count": 17,
   "metadata": {},
   "outputs": [
    {
     "name": "stdout",
     "output_type": "stream",
     "text": [
      "<class 'bool'>\n",
      "True\n"
     ]
    }
   ],
   "source": [
    "hujan = True \n",
    "cerah = False\n",
    "print(type(hujan))\n",
    "print(hujan)"
   ]
  },
  {
   "cell_type": "code",
   "execution_count": 18,
   "metadata": {},
   "outputs": [
    {
     "name": "stdout",
     "output_type": "stream",
     "text": [
      "halo selamat malam!\n",
      "True\n",
      "202\n",
      "1\n"
     ]
    }
   ],
   "source": [
    "print (msg)\n",
    "print (hujan)\n",
    "print (num)\n",
    "print (a)"
   ]
  },
  {
   "cell_type": "code",
   "execution_count": 19,
   "metadata": {},
   "outputs": [],
   "source": [
    "nama_lengkap = \"andhika widjaya\"\n",
    "tanggal_lahir = \"12 Dec 1980\"\n",
    "# cara tulis variable yang baik, gunakan huruf sebagai karakter pertama, \n",
    "# gunakan _ untuk memisah 2 kata atau lebih\n",
    "# gunakan huruf kecil\n",
    "\n",
    "namaLengkap # camel case\n",
    "NamaLengkap # pascal case\n",
    "nama_lengkap # snake case"
   ]
  },
  {
   "cell_type": "code",
   "execution_count": 20,
   "metadata": {},
   "outputs": [
    {
     "name": "stdout",
     "output_type": "stream",
     "text": [
      "17\n",
      "3\n",
      "1.4285714285714286\n",
      "70\n",
      "3\n",
      "10000000\n"
     ]
    }
   ],
   "source": [
    "a = 10\n",
    "b = 7\n",
    "\n",
    "c = a + b\n",
    "print(c)\n",
    "\n",
    "c = a - b\n",
    "print(c)\n",
    "\n",
    "print (a / b)\n",
    "print (a * b)\n",
    "print (a % b) # 10 bagi 7 sisa 3\n",
    "print (a ** b)"
   ]
  },
  {
   "cell_type": "code",
   "execution_count": 21,
   "metadata": {},
   "outputs": [
    {
     "name": "stdout",
     "output_type": "stream",
     "text": [
      "False\n",
      "True\n",
      "True\n",
      "True\n",
      "False\n",
      "False\n"
     ]
    }
   ],
   "source": [
    "# operator comparison, mengembalikan True atau False\n",
    "print (a == b)\n",
    "print (a != b)\n",
    "print (a > b)\n",
    "print (a >= b)\n",
    "print (a < b)\n",
    "print (a <= b)"
   ]
  },
  {
   "cell_type": "code",
   "execution_count": 22,
   "metadata": {},
   "outputs": [
    {
     "name": "stdout",
     "output_type": "stream",
     "text": [
      "h8 kelas python\n"
     ]
    }
   ],
   "source": [
    "msg2 = \"h8\"\n",
    "print (msg2 + \" kelas python\")"
   ]
  },
  {
   "cell_type": "code",
   "execution_count": 23,
   "metadata": {},
   "outputs": [
    {
     "name": "stdout",
     "output_type": "stream",
     "text": [
      "h8h8h8\n"
     ]
    }
   ],
   "source": [
    "print (msg2 * 3)"
   ]
  },
  {
   "cell_type": "code",
   "execution_count": 24,
   "metadata": {},
   "outputs": [
    {
     "name": "stdout",
     "output_type": "stream",
     "text": [
      "True\n"
     ]
    }
   ],
   "source": [
    "print ('8' in msg2)"
   ]
  },
  {
   "cell_type": "code",
   "execution_count": 25,
   "metadata": {},
   "outputs": [
    {
     "name": "stdout",
     "output_type": "stream",
     "text": [
      "False\n"
     ]
    }
   ],
   "source": [
    "print ('a' in msg2)"
   ]
  },
  {
   "cell_type": "code",
   "execution_count": 26,
   "metadata": {},
   "outputs": [
    {
     "name": "stdout",
     "output_type": "stream",
     "text": [
      "Malam hari ini kita belajar\n",
      "MALAM HARI INI KITA BELAJAR\n",
      "malam hari ini kita belajar\n",
      "Malam Hari Ini Kita Belajar\n",
      "MALAM HARI INI KITA belajar\n"
     ]
    }
   ],
   "source": [
    "msg3 = \"malam hari ini kita BELAJAR\"\n",
    "\n",
    "print (msg3.capitalize())\n",
    "print (msg3.upper())\n",
    "print (msg3.lower())\n",
    "print (msg3.title())\n",
    "print (msg3.swapcase())"
   ]
  },
  {
   "cell_type": "code",
   "execution_count": 41,
   "metadata": {},
   "outputs": [
    {
     "name": "stdout",
     "output_type": "stream",
     "text": [
      "['mangga', 'duku', 'pisang', 'apel']\n",
      "<class 'list'>\n"
     ]
    }
   ],
   "source": [
    "list_buah = [ \"mangga\", \"duku\", \"pisang\", \"apel\"]\n",
    "list_buah2 = [\"pisang\",\"apel\", \"mangga\", \"duku\"]\n",
    "print(list_buah)\n",
    "print(type(list_buah))"
   ]
  },
  {
   "cell_type": "code",
   "execution_count": 29,
   "metadata": {},
   "outputs": [
    {
     "name": "stdout",
     "output_type": "stream",
     "text": [
      "apel\n"
     ]
    }
   ],
   "source": [
    "print(list_buah[0])"
   ]
  },
  {
   "cell_type": "code",
   "execution_count": 30,
   "metadata": {},
   "outputs": [
    {
     "name": "stdout",
     "output_type": "stream",
     "text": [
      "pisang\n"
     ]
    }
   ],
   "source": [
    "print(list_buah[3])"
   ]
  },
  {
   "cell_type": "code",
   "execution_count": 34,
   "metadata": {},
   "outputs": [
    {
     "name": "stdout",
     "output_type": "stream",
     "text": [
      "False\n"
     ]
    }
   ],
   "source": [
    "print (list_buah == list_buah2)"
   ]
  },
  {
   "cell_type": "code",
   "execution_count": 35,
   "metadata": {},
   "outputs": [],
   "source": [
    "list_random = [123, 2.5, True, \"halo\"]"
   ]
  },
  {
   "cell_type": "code",
   "execution_count": 36,
   "metadata": {},
   "outputs": [
    {
     "name": "stdout",
     "output_type": "stream",
     "text": [
      "pisang\n"
     ]
    }
   ],
   "source": [
    "print (list_buah[-1])"
   ]
  },
  {
   "cell_type": "code",
   "execution_count": 37,
   "metadata": {},
   "outputs": [
    {
     "name": "stdout",
     "output_type": "stream",
     "text": [
      "['apel', 'mangga', 'duku', 'pisang', 'apel', 'mangga', 'duku', 'pisang']\n"
     ]
    }
   ],
   "source": [
    "print (list_buah * 2)"
   ]
  },
  {
   "cell_type": "code",
   "execution_count": 38,
   "metadata": {},
   "outputs": [
    {
     "name": "stdout",
     "output_type": "stream",
     "text": [
      "['apel', 'mangga', 'duku', 'pisang', 123, 2.5, True, 'halo']\n"
     ]
    }
   ],
   "source": [
    "print (list_buah + list_random)"
   ]
  },
  {
   "cell_type": "code",
   "execution_count": 39,
   "metadata": {},
   "outputs": [
    {
     "name": "stdout",
     "output_type": "stream",
     "text": [
      "4\n"
     ]
    }
   ],
   "source": [
    "print (len(list_buah))"
   ]
  },
  {
   "cell_type": "code",
   "execution_count": 42,
   "metadata": {},
   "outputs": [
    {
     "name": "stdout",
     "output_type": "stream",
     "text": [
      "apel\n",
      "pisang\n"
     ]
    }
   ],
   "source": [
    "print (min(list_buah))\n",
    "print (max(list_buah))"
   ]
  },
  {
   "cell_type": "code",
   "execution_count": 43,
   "metadata": {},
   "outputs": [
    {
     "name": "stdout",
     "output_type": "stream",
     "text": [
      "-3\n",
      "100\n"
     ]
    }
   ],
   "source": [
    "list_nilai = [10, 100, 50, -3, 25]\n",
    "print (min(list_nilai))\n",
    "print (max(list_nilai))"
   ]
  },
  {
   "cell_type": "code",
   "execution_count": 44,
   "metadata": {},
   "outputs": [
    {
     "name": "stdout",
     "output_type": "stream",
     "text": [
      "['mangga', 'duku', 'pisang', 'apel']\n"
     ]
    }
   ],
   "source": [
    "print (list_buah)"
   ]
  },
  {
   "cell_type": "code",
   "execution_count": 45,
   "metadata": {},
   "outputs": [
    {
     "name": "stdout",
     "output_type": "stream",
     "text": [
      "['pepaya', 'duku', 'pisang', 'apel']\n"
     ]
    }
   ],
   "source": [
    "list_buah[0] = \"pepaya\"\n",
    "print(list_buah)"
   ]
  },
  {
   "cell_type": "code",
   "execution_count": 47,
   "metadata": {},
   "outputs": [
    {
     "name": "stdout",
     "output_type": "stream",
     "text": [
      "['pepaya', 'semangka', 'nanas', 'nanas']\n"
     ]
    }
   ],
   "source": [
    "list_buah[1:3] = [\"semangka\", \"nanas\"]\n",
    "print(list_buah)"
   ]
  },
  {
   "cell_type": "code",
   "execution_count": 49,
   "metadata": {},
   "outputs": [
    {
     "name": "stdout",
     "output_type": "stream",
     "text": [
      "('pepaya', 'semangka', 'nanas', 'nanas')\n",
      "<class 'tuple'>\n"
     ]
    }
   ],
   "source": [
    "tuple_buah = ('pepaya', 'semangka', 'nanas', 'nanas')\n",
    "print (tuple_buah)\n",
    "print (type(tuple_buah))"
   ]
  },
  {
   "cell_type": "code",
   "execution_count": 50,
   "metadata": {},
   "outputs": [
    {
     "ename": "TypeError",
     "evalue": "'tuple' object does not support item assignment",
     "output_type": "error",
     "traceback": [
      "\u001b[1;31m---------------------------------------------------------------------------\u001b[0m",
      "\u001b[1;31mTypeError\u001b[0m                                 Traceback (most recent call last)",
      "\u001b[1;32m<ipython-input-50-4aff6d3a4dff>\u001b[0m in \u001b[0;36m<module>\u001b[1;34m\u001b[0m\n\u001b[1;32m----> 1\u001b[1;33m \u001b[0mtuple_buah\u001b[0m\u001b[1;33m[\u001b[0m\u001b[1;36m0\u001b[0m\u001b[1;33m]\u001b[0m \u001b[1;33m=\u001b[0m \u001b[1;34m\"apel\"\u001b[0m\u001b[1;33m\u001b[0m\u001b[1;33m\u001b[0m\u001b[0m\n\u001b[0m",
      "\u001b[1;31mTypeError\u001b[0m: 'tuple' object does not support item assignment"
     ]
    }
   ],
   "source": [
    "tuple_buah[0] = \"apel\" #immutable, tidak bisa berubah, isi dari tuple itu fix"
   ]
  },
  {
   "cell_type": "code",
   "execution_count": 51,
   "metadata": {},
   "outputs": [],
   "source": [
    "list_buah[0] = \"apel\""
   ]
  },
  {
   "cell_type": "code",
   "execution_count": 52,
   "metadata": {},
   "outputs": [
    {
     "name": "stdout",
     "output_type": "stream",
     "text": [
      "['apel', 'semangka', 'nanas', 'nanas']\n"
     ]
    }
   ],
   "source": [
    "print(list_buah)"
   ]
  },
  {
   "cell_type": "code",
   "execution_count": 53,
   "metadata": {},
   "outputs": [
    {
     "name": "stdout",
     "output_type": "stream",
     "text": [
      "('pepaya', 'semangka', 'nanas', 'nanas')\n"
     ]
    }
   ],
   "source": [
    "print(tuple_buah)"
   ]
  },
  {
   "cell_type": "code",
   "execution_count": 54,
   "metadata": {},
   "outputs": [
    {
     "name": "stdout",
     "output_type": "stream",
     "text": [
      "pepaya\n"
     ]
    }
   ],
   "source": [
    "print (tuple_buah[0])"
   ]
  },
  {
   "cell_type": "code",
   "execution_count": 59,
   "metadata": {},
   "outputs": [
    {
     "name": "stdout",
     "output_type": "stream",
     "text": [
      "{'merk': 'Kijang', 'warna': 'silver', 'tahun': 2018, 'tipe': 'SUV'}\n",
      "<class 'dict'>\n"
     ]
    }
   ],
   "source": [
    "dict_mobil = {\n",
    "    'merk': 'Kijang',\n",
    "    'warna': 'silver',\n",
    "    'tahun': 2018,\n",
    "    'tipe': 'SUV'\n",
    "}\n",
    "print (dict_mobil)\n",
    "print (type(dict_mobil))"
   ]
  },
  {
   "cell_type": "code",
   "execution_count": 58,
   "metadata": {},
   "outputs": [
    {
     "name": "stdout",
     "output_type": "stream",
     "text": [
      "Kijang\n"
     ]
    }
   ],
   "source": [
    "print(dict_mobil['merk'])"
   ]
  },
  {
   "cell_type": "code",
   "execution_count": 60,
   "metadata": {},
   "outputs": [
    {
     "name": "stdout",
     "output_type": "stream",
     "text": [
      "{'merk': 'Kijang', 'warna': 'silver', 'tahun': 2018, 'tipe': 'SUV', 'harga_beli': 200}\n"
     ]
    }
   ],
   "source": [
    "dict_mobil['harga_beli'] = 200\n",
    "print(dict_mobil)"
   ]
  },
  {
   "cell_type": "code",
   "execution_count": 61,
   "metadata": {},
   "outputs": [
    {
     "name": "stdout",
     "output_type": "stream",
     "text": [
      "{'merk': 'KIA', 'warna': 'silver', 'tahun': 2018, 'tipe': 'SUV', 'harga_beli': 200}\n"
     ]
    }
   ],
   "source": [
    "dict_mobil['merk'] = \"KIA\"\n",
    "print(dict_mobil)"
   ]
  },
  {
   "cell_type": "code",
   "execution_count": 63,
   "metadata": {},
   "outputs": [
    {
     "name": "stdout",
     "output_type": "stream",
     "text": [
      "dict_keys(['merk', 'warna', 'tahun', 'tipe', 'harga_beli'])\n",
      "dict_values(['KIA', 'silver', 2018, 'SUV', 200])\n"
     ]
    }
   ],
   "source": [
    "print (dict_mobil.keys())\n",
    "print (dict_mobil.values())"
   ]
  },
  {
   "cell_type": "code",
   "execution_count": 64,
   "metadata": {},
   "outputs": [
    {
     "name": "stdout",
     "output_type": "stream",
     "text": [
      "dict_items([('merk', 'KIA'), ('warna', 'silver'), ('tahun', 2018), ('tipe', 'SUV'), ('harga_beli', 200)])\n"
     ]
    }
   ],
   "source": [
    "print (dict_mobil.items())"
   ]
  },
  {
   "cell_type": "code",
   "execution_count": 65,
   "metadata": {},
   "outputs": [
    {
     "name": "stdout",
     "output_type": "stream",
     "text": [
      "{'merk': 'KIA', 'warna': 'silver', 'tahun': 2018, 'tipe': 'SUV', 'harga_beli': 200}\n"
     ]
    }
   ],
   "source": [
    "print (dict_mobil)"
   ]
  },
  {
   "cell_type": "code",
   "execution_count": 70,
   "metadata": {},
   "outputs": [
    {
     "name": "stdout",
     "output_type": "stream",
     "text": [
      "KIA\n"
     ]
    }
   ],
   "source": [
    "m = 'merk'\n",
    "print (dict_mobil[m])"
   ]
  },
  {
   "cell_type": "code",
   "execution_count": 73,
   "metadata": {},
   "outputs": [
    {
     "name": "stdout",
     "output_type": "stream",
     "text": [
      "apel\n",
      "pepaya\n"
     ]
    }
   ],
   "source": [
    "i = 0\n",
    "print(list_buah[i])\n",
    "print(tuple_buah[i])"
   ]
  },
  {
   "cell_type": "code",
   "execution_count": 78,
   "metadata": {},
   "outputs": [
    {
     "name": "stdout",
     "output_type": "stream",
     "text": [
      "True\n"
     ]
    }
   ],
   "source": [
    "person1_age = 42\n",
    "person2_age = 16\n",
    "person3_age = 71\n",
    "\n",
    "someone_is_of_working_age = (\n",
    "    (person1_age >= 18 and person1_age <= 65) \n",
    "    or (person2_age >= 18 and person2_age <= 65) \n",
    "    or (person3_age >= 18 and person3_age <= 65)\n",
    ")\n",
    "\n",
    "print(someone_is_of_working_age)"
   ]
  },
  {
   "cell_type": "code",
   "execution_count": 79,
   "metadata": {},
   "outputs": [
    {
     "name": "stdout",
     "output_type": "stream",
     "text": [
      "{'banana', 'cherry', 'apple'}\n",
      "<class 'set'>\n"
     ]
    }
   ],
   "source": [
    "set_buah =  {\"apple\", \"banana\", \"cherry\", \"apple\"}\n",
    "print (set_buah)\n",
    "print(type(set_buah))"
   ]
  },
  {
   "cell_type": "markdown",
   "metadata": {},
   "source": [
    "summary data struktur"
   ]
  },
  {
   "cell_type": "code",
   "execution_count": 80,
   "metadata": {},
   "outputs": [],
   "source": [
    "list_makanan = [\"nasi goreng\", \"roti manis\", \"ayam bakar\"]\n",
    "tuple_makanan = (\"nasi goreng\", \"roti manis\", \"ayam bakar\") # isi nya tidak bisa diubah seperti list\n",
    "dict_makanan = {\"nasi goreng\": 1, \"roti manis\": 2, \"ayam bakar\": 1} # pakai key bukan index\n",
    "set_makanan = {\"nasi goreng\", \"roti manis\", \"ayam bakar\"} # isi dari set semuanya unik, tidak bisa dobel, dan set tidak punya index"
   ]
  },
  {
   "cell_type": "code",
   "execution_count": 83,
   "metadata": {},
   "outputs": [
    {
     "name": "stdout",
     "output_type": "stream",
     "text": [
      "[{'bahan': ['nasi', 'telur', 'kecap'], 'harga': 15000}, {'bahan': ['air', 'teh', 'gula'], 'harga': 5000}]\n"
     ]
    }
   ],
   "source": [
    "nasi_goreng = {\n",
    "    'bahan': ['nasi', 'telur', 'kecap'],\n",
    "    'harga': 15000\n",
    "}\n",
    "es_teh_manis = {\n",
    "    'bahan': [\"air\", \"teh\", \"gula\"],\n",
    "    'harga': 5000\n",
    "}\n",
    "\n",
    "makan_siang = [\n",
    "    nasi_goreng, es_teh_manis\n",
    "]\n",
    "\n",
    "print (makan_siang)"
   ]
  },
  {
   "cell_type": "code",
   "execution_count": 86,
   "metadata": {},
   "outputs": [
    {
     "name": "stdout",
     "output_type": "stream",
     "text": [
      "{'ayam bakar', 'nasi goreng', 'roti manis'}\n"
     ]
    }
   ],
   "source": [
    "print (set_makanan)"
   ]
  },
  {
   "cell_type": "code",
   "execution_count": 87,
   "metadata": {},
   "outputs": [
    {
     "name": "stdout",
     "output_type": "stream",
     "text": [
      "['nasi goreng', 'roti manis', 'ayam bakar']\n",
      "['roti manis', 'ayam bakar']\n"
     ]
    }
   ],
   "source": [
    "print(list_makanan)\n",
    "del list_makanan[0]\n",
    "print(list_makanan)"
   ]
  },
  {
   "cell_type": "code",
   "execution_count": 88,
   "metadata": {},
   "outputs": [
    {
     "name": "stdout",
     "output_type": "stream",
     "text": [
      "roti manis\n",
      "ayam bakar\n"
     ]
    }
   ],
   "source": [
    "[a, b] = list_makanan\n",
    "\n",
    "print(a)\n",
    "print(b)"
   ]
  },
  {
   "cell_type": "code",
   "execution_count": 89,
   "metadata": {},
   "outputs": [
    {
     "name": "stdout",
     "output_type": "stream",
     "text": [
      "nasi goreng\n",
      "roti manis\n",
      "ayam bakar\n"
     ]
    }
   ],
   "source": [
    "(a, b, c) = tuple_makanan\n",
    "\n",
    "print(a)\n",
    "print(b)\n",
    "print(c)"
   ]
  },
  {
   "cell_type": "code",
   "execution_count": 90,
   "metadata": {},
   "outputs": [],
   "source": [
    "a = tuple_makanan[0]\n",
    "b = tuple_makanan[1]\n",
    "c = tuple_makanan[2]"
   ]
  },
  {
   "cell_type": "code",
   "execution_count": 91,
   "metadata": {},
   "outputs": [
    {
     "name": "stdout",
     "output_type": "stream",
     "text": [
      "{'nasi goreng': 1, 'roti manis': 2, 'ayam bakar': 1}\n",
      "{'nasi goreng': 1, 'roti manis': 2}\n"
     ]
    }
   ],
   "source": [
    "print (dict_makanan)\n",
    "del dict_makanan['ayam bakar']\n",
    "print(dict_makanan)"
   ]
  },
  {
   "cell_type": "code",
   "execution_count": null,
   "metadata": {},
   "outputs": [],
   "source": []
  }
 ],
 "metadata": {
  "kernelspec": {
   "display_name": "Python 3",
   "language": "python",
   "name": "python3"
  },
  "language_info": {
   "codemirror_mode": {
    "name": "ipython",
    "version": 3
   },
   "file_extension": ".py",
   "mimetype": "text/x-python",
   "name": "python",
   "nbconvert_exporter": "python",
   "pygments_lexer": "ipython3",
   "version": "3.8.5"
  }
 },
 "nbformat": 4,
 "nbformat_minor": 4
}
