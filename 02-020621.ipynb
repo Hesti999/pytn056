{
 "cells": [
  {
   "cell_type": "code",
   "execution_count": 2,
   "metadata": {},
   "outputs": [
    {
     "name": "stdout",
     "output_type": "stream",
     "text": [
      "a sama dengan b\n"
     ]
    }
   ],
   "source": [
    "a = 10\n",
    "b = 10\n",
    "\n",
    "if (a == b):\n",
    "    print (\"a sama dengan b\")\n",
    "    \n"
   ]
  },
  {
   "cell_type": "code",
   "execution_count": 11,
   "metadata": {},
   "outputs": [],
   "source": [
    "c = \"\" # angka 0, list kosong [], tuple kosong (), dict kosong {}, string kosong \"\"\n",
    "\n",
    "if c:\n",
    "    print(\"c tidak falsy\")"
   ]
  },
  {
   "cell_type": "code",
   "execution_count": 16,
   "metadata": {},
   "outputs": [
    {
     "name": "stdout",
     "output_type": "stream",
     "text": [
      "hi\n"
     ]
    }
   ],
   "source": [
    "str = \"bandung kota dekat\"\n",
    "\n",
    "if \"jakarta\" in str:\n",
    "    print(\"ada jakarta di dalam str\")\n",
    "    print(\"...\")\n",
    "    \n",
    "print(\"hi\")"
   ]
  },
  {
   "cell_type": "markdown",
   "metadata": {},
   "source": [
    "nested if"
   ]
  },
  {
   "cell_type": "code",
   "execution_count": 20,
   "metadata": {},
   "outputs": [
    {
     "name": "stdout",
     "output_type": "stream",
     "text": [
      "a lebih besar dari b\n",
      "diluar if a < b\n"
     ]
    }
   ],
   "source": [
    "a = 50\n",
    "b = 10\n",
    "c = 6\n",
    "\n",
    "if a < b:\n",
    "    print(\"a < b\")\n",
    "    \n",
    "    if b < c:\n",
    "        print(\"a < b < c\")\n",
    "        \n",
    "    if a < c:\n",
    "        print(\"a < b dan a < c\")\n",
    "        \n",
    "    print (\"ok\")\n",
    "else:\n",
    "    print(\"a lebih besar dari b\")\n",
    "    \n",
    "print (\"diluar if a < b\")"
   ]
  },
  {
   "cell_type": "code",
   "execution_count": 25,
   "metadata": {},
   "outputs": [
    {
     "name": "stdout",
     "output_type": "stream",
     "text": [
      "tidak jadi jalan-jalan\n"
     ]
    }
   ],
   "source": [
    "# hari ini mau jalan-jalan kalau uang nya cukup\n",
    "uang_cukup = 50000\n",
    "uang_dompet = 49999\n",
    "\n",
    "if uang_dompet > uang_cukup:\n",
    "    print(\"jalan-jalan\")\n",
    "elif uang_dompet == uang_cukup:\n",
    "    print(\"tergantung cuaca\")\n",
    "else:\n",
    "    print(\"tidak jadi jalan-jalan\")"
   ]
  },
  {
   "cell_type": "code",
   "execution_count": 30,
   "metadata": {},
   "outputs": [
    {
     "name": "stdout",
     "output_type": "stream",
     "text": [
      "halo ryan\n",
      "halo ryan\n"
     ]
    }
   ],
   "source": [
    "nama_murid = \"ryan\"\n",
    "\n",
    "if nama_murid == \"kevin\":\n",
    "    print(\"halo kevin\")\n",
    "elif nama_murid == \"azka\":\n",
    "    print (\"halo azka\")\n",
    "elif nama_murid == \"kanzi\":\n",
    "    print (\"halo kanzi\")\n",
    "elif nama_murid == \"rudy\":\n",
    "    print (\"halo rudy\")\n",
    "elif nama_murid == \"ryan\":\n",
    "    print (\"halo ryan\")\n",
    "elif nama_murid == \"hesti\":\n",
    "    print (\"halo hesti\")\n",
    "else:\n",
    "    print(\"halo\")\n",
    "    \n",
    "print (\"halo \" + nama_murid)"
   ]
  },
  {
   "cell_type": "code",
   "execution_count": 31,
   "metadata": {},
   "outputs": [
    {
     "name": "stdout",
     "output_type": "stream",
     "text": [
      "halo ryan\n"
     ]
    }
   ],
   "source": [
    "list_murid = [\"kevin\", \"azka\", \"kanzi\", \"rudy\", \"ryan\", \"hesti\"]\n",
    "\n",
    "if nama_murid in list_murid:\n",
    "    print(\"halo \" + nama_murid)"
   ]
  },
  {
   "cell_type": "code",
   "execution_count": 32,
   "metadata": {},
   "outputs": [
    {
     "name": "stdout",
     "output_type": "stream",
     "text": [
      "halo\n",
      "selamat\n",
      "datang\n",
      "ryan\n"
     ]
    }
   ],
   "source": [
    "if nama_murid == \"ryan\": print(\"halo\"); print(\"selamat\"); print(\"datang\"); print(\"ryan\")"
   ]
  },
  {
   "cell_type": "code",
   "execution_count": 34,
   "metadata": {},
   "outputs": [
    {
     "name": "stdout",
     "output_type": "stream",
     "text": [
      "selamat malam di h8\n"
     ]
    }
   ],
   "source": [
    "nama_murid = \"idaz\"\n",
    "print (\"selamat malam\", nama_murid if nama_murid == \"ryan\" else \"di h8\")"
   ]
  },
  {
   "cell_type": "code",
   "execution_count": 38,
   "metadata": {},
   "outputs": [
    {
     "ename": "IndentationError",
     "evalue": "expected an indented block (<ipython-input-38-0bc4e5331f22>, line 3)",
     "output_type": "error",
     "traceback": [
      "\u001b[1;36m  File \u001b[1;32m\"<ipython-input-38-0bc4e5331f22>\"\u001b[1;36m, line \u001b[1;32m3\u001b[0m\n\u001b[1;33m    print(\"selesai\")\u001b[0m\n\u001b[1;37m    ^\u001b[0m\n\u001b[1;31mIndentationError\u001b[0m\u001b[1;31m:\u001b[0m expected an indented block\n"
     ]
    }
   ],
   "source": [
    "if nama_murid == \"idaz\":\n",
    "    pass #untuk membuat tidak error karena blok statement if tidak boleh kosong\n",
    "print(\"selesai\")"
   ]
  },
  {
   "cell_type": "code",
   "execution_count": 42,
   "metadata": {},
   "outputs": [
    {
     "name": "stdout",
     "output_type": "stream",
     "text": [
      "pushup\n",
      "pushup\n",
      "pushup\n",
      "pushup\n",
      "pushup\n",
      "pushup\n",
      "pushup\n",
      "pushup\n",
      "pushup\n",
      "pushup\n",
      "10\n"
     ]
    }
   ],
   "source": [
    "# perulangan, while, mirip if tapi dia jalan terus sampai expression nya False\n",
    "\n",
    "total_pushup = 10\n",
    "sudah_pushup = 0\n",
    "\n",
    "while sudah_pushup < total_pushup:\n",
    "    print(\"pushup\")\n",
    "    sudah_pushup = sudah_pushup + 1\n",
    "\n",
    "    \n",
    "print (sudah_pushup)"
   ]
  },
  {
   "cell_type": "code",
   "execution_count": 44,
   "metadata": {},
   "outputs": [
    {
     "name": "stdout",
     "output_type": "stream",
     "text": [
      "halo\n"
     ]
    }
   ],
   "source": [
    "# contoh expresi yang selamanya True sehingga tidak pernah keluar dari loop\n",
    "nama_murid = \"idaz\"\n",
    "while nama_murid == \"idaz\": # jangan dilakukan, infinite loop\n",
    "    print(\"halo\")"
   ]
  },
  {
   "cell_type": "code",
   "execution_count": 45,
   "metadata": {},
   "outputs": [
    {
     "name": "stdout",
     "output_type": "stream",
     "text": [
      "halo\n"
     ]
    }
   ],
   "source": [
    "while nama_murid == \"idaz\":\n",
    "    print(\"halo\")\n",
    "    break #menghentikan loop"
   ]
  },
  {
   "cell_type": "code",
   "execution_count": 2,
   "metadata": {},
   "outputs": [
    {
     "name": "stdout",
     "output_type": "stream",
     "text": [
      "10\n",
      "9\n",
      "8\n",
      "7\n",
      "6\n",
      "5\n",
      "5\n"
     ]
    }
   ],
   "source": [
    "n = 100\n",
    "while n > 5:\n",
    "    n -= 1\n",
    "    if n > 10:\n",
    "        continue\n",
    "    print(n)\n",
    "    \n",
    "print(n)"
   ]
  },
  {
   "cell_type": "code",
   "execution_count": 6,
   "metadata": {},
   "outputs": [
    {
     "name": "stdout",
     "output_type": "stream",
     "text": [
      "hi idaz\n"
     ]
    }
   ],
   "source": [
    "nama_murid = \"idaz\"\n",
    "while nama_murid == \"idaz\":\n",
    "    print(\"hi idaz\")\n",
    "    break\n",
    "else:\n",
    "    print(\"selamat malam \" + nama_murid)"
   ]
  },
  {
   "cell_type": "code",
   "execution_count": 8,
   "metadata": {},
   "outputs": [
    {
     "name": "stdout",
     "output_type": "stream",
     "text": [
      "ngulang 10x 10\n",
      "ngulang 10x 9\n",
      "ngulang 10x 8\n",
      "ngulang 10x 7\n",
      "ngulang 10x 6\n",
      "ngulang 10x 5\n",
      "ngulang 10x 4\n",
      "ngulang 10x 3\n",
      "ngulang 10x 2\n",
      "ngulang 10x 1\n"
     ]
    }
   ],
   "source": [
    "n = 10\n",
    "while n > 0:\n",
    "    print (\"ngulang 10x\", n)\n",
    "    n -= 1"
   ]
  },
  {
   "cell_type": "code",
   "execution_count": 10,
   "metadata": {},
   "outputs": [
    {
     "name": "stdout",
     "output_type": "stream",
     "text": [
      "while pertama 10\n",
      "while kedua, nested 3\n",
      "while kedua, nested 2\n",
      "while kedua, nested 1\n",
      "while pertama 9\n",
      "while kedua, nested 3\n",
      "while kedua, nested 2\n",
      "while kedua, nested 1\n",
      "while pertama 8\n",
      "while kedua, nested 3\n",
      "while kedua, nested 2\n",
      "while kedua, nested 1\n",
      "while pertama 7\n",
      "while kedua, nested 3\n",
      "while kedua, nested 2\n",
      "while kedua, nested 1\n",
      "while pertama 6\n",
      "while kedua, nested 3\n",
      "while kedua, nested 2\n",
      "while kedua, nested 1\n",
      "while pertama 5\n",
      "while kedua, nested 3\n",
      "while kedua, nested 2\n",
      "while kedua, nested 1\n",
      "while pertama 4\n",
      "while kedua, nested 3\n",
      "while kedua, nested 2\n",
      "while kedua, nested 1\n",
      "while pertama 3\n",
      "while kedua, nested 3\n",
      "while kedua, nested 2\n",
      "while kedua, nested 1\n",
      "while pertama 2\n",
      "while kedua, nested 3\n",
      "while kedua, nested 2\n",
      "while kedua, nested 1\n",
      "while pertama 1\n",
      "while kedua, nested 3\n",
      "while kedua, nested 2\n",
      "while kedua, nested 1\n",
      "30\n"
     ]
    }
   ],
   "source": [
    "count = 0\n",
    "n = 10\n",
    "while n > 0:\n",
    "    print (\"while pertama\", n)\n",
    "    \n",
    "    a = 3\n",
    "    \n",
    "    while a > 0:\n",
    "        print(\"while kedua, nested\", a)\n",
    "        a -= 1\n",
    "        count += 1\n",
    "        \n",
    "    n -= 1\n",
    "    \n",
    "print (count)"
   ]
  },
  {
   "cell_type": "code",
   "execution_count": 14,
   "metadata": {},
   "outputs": [
    {
     "name": "stdout",
     "output_type": "stream",
     "text": [
      "0\n",
      "1\n",
      "2\n",
      "3\n",
      "4\n",
      "5\n",
      "6\n",
      "7\n",
      "8\n",
      "9\n"
     ]
    }
   ],
   "source": [
    "for n in range(10):\n",
    "    print(n)"
   ]
  },
  {
   "cell_type": "code",
   "execution_count": 17,
   "metadata": {},
   "outputs": [
    {
     "name": "stdout",
     "output_type": "stream",
     "text": [
      "halo kevin\n",
      "halo azka\n",
      "halo hesti\n",
      "selamat malam\n",
      "halo kanzi\n",
      "halo rudy\n",
      "halo ryan\n"
     ]
    }
   ],
   "source": [
    "list_murid = [\"kevin\", \"azka\", \"hesti\", \"kanzi\", \"rudy\", \"ryan\"]\n",
    "\n",
    "for murid in list_murid:\n",
    "    print(\"halo\", murid)\n",
    "    if murid == \"hesti\":\n",
    "        print(\"selamat malam\")"
   ]
  },
  {
   "cell_type": "code",
   "execution_count": 28,
   "metadata": {},
   "outputs": [
    {
     "name": "stdout",
     "output_type": "stream",
     "text": [
      "kevin 0\n",
      "azka 1\n",
      "hesti 2\n",
      "kanzi 3\n",
      "rudy 4\n",
      "ryan 5\n"
     ]
    }
   ],
   "source": [
    "dict_murid = {\"kevin\": 80, \"azka\": 90, \"hesti\": 100, \"kanzi\":70, \"rudy\":60, \"ryan\":85}\n",
    "\n",
    "index = 0\n",
    "for murid in dict_murid:\n",
    "    print(murid, index)\n",
    "    index += 1"
   ]
  },
  {
   "cell_type": "code",
   "execution_count": 22,
   "metadata": {},
   "outputs": [
    {
     "name": "stdout",
     "output_type": "stream",
     "text": [
      "kevin 80\n",
      "azka 90\n",
      "hesti 100\n",
      "kanzi 70\n",
      "rudy 60\n",
      "ryan 85\n"
     ]
    }
   ],
   "source": [
    "for murid, nilai in dict_murid.items():\n",
    "    print(murid, nilai)"
   ]
  },
  {
   "cell_type": "code",
   "execution_count": 27,
   "metadata": {},
   "outputs": [
    {
     "name": "stdout",
     "output_type": "stream",
     "text": [
      "kevin 80\n",
      "azka 90\n",
      "hesti 100\n",
      "kanzi 70\n",
      "rudy 60\n",
      "ryan 85\n",
      "for loop nya selesai\n",
      "diluar loop\n"
     ]
    }
   ],
   "source": [
    "for murid in dict_murid:\n",
    "    print(murid, dict_murid[murid])\n",
    "    \n",
    "else:\n",
    "    print(\"for loop nya selesai\") # tidak jalan kalau ada break di dalam for \n",
    "    \n",
    "print (\"diluar loop\") # jalan walaupun for nya di break"
   ]
  },
  {
   "cell_type": "code",
   "execution_count": 30,
   "metadata": {},
   "outputs": [
    {
     "name": "stdout",
     "output_type": "stream",
     "text": [
      "kevin 0\n",
      "azka 1\n",
      "hesti 2\n",
      "kanzi 3\n",
      "rudy 4\n",
      "ryan 5\n"
     ]
    }
   ],
   "source": [
    "for n in range(len(list_murid)):\n",
    "    print(list_murid[n], n)"
   ]
  },
  {
   "cell_type": "code",
   "execution_count": 34,
   "metadata": {},
   "outputs": [
    {
     "name": "stdout",
     "output_type": "stream",
     "text": [
      "10\n",
      "27\n",
      "44\n",
      "61\n",
      "78\n",
      "95\n"
     ]
    }
   ],
   "source": [
    "for n in range (10, 101, 17):\n",
    "    print(n)"
   ]
  },
  {
   "cell_type": "code",
   "execution_count": 39,
   "metadata": {},
   "outputs": [
    {
     "name": "stdout",
     "output_type": "stream",
     "text": [
      "9\n",
      "6\n",
      "3\n",
      "0\n",
      "-3\n",
      "-6\n",
      "-9\n"
     ]
    }
   ],
   "source": [
    "for n in range (9, -10, -3):\n",
    "    print(n)"
   ]
  },
  {
   "cell_type": "code",
   "execution_count": null,
   "metadata": {},
   "outputs": [],
   "source": []
  }
 ],
 "metadata": {
  "kernelspec": {
   "display_name": "Python 3",
   "language": "python",
   "name": "python3"
  },
  "language_info": {
   "codemirror_mode": {
    "name": "ipython",
    "version": 3
   },
   "file_extension": ".py",
   "mimetype": "text/x-python",
   "name": "python",
   "nbconvert_exporter": "python",
   "pygments_lexer": "ipython3",
   "version": "3.8.5"
  }
 },
 "nbformat": 4,
 "nbformat_minor": 4
}
