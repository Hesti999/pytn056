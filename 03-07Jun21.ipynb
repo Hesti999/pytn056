{
 "cells": [
  {
   "cell_type": "code",
   "execution_count": 7,
   "metadata": {},
   "outputs": [],
   "source": [
    "def bandingAngka(a, b, c):\n",
    "    print(\"a:\",a,\"b:\",b,\"c:\",c)\n",
    "    if a < b:\n",
    "        print(\"a < b\")\n",
    "    \n",
    "        if b < c:\n",
    "            print(\"a < b < c\")\n",
    "        \n",
    "        if a < c:\n",
    "            print(\"a < b dan a < c\")\n",
    "        \n",
    "        print (\"ok\")\n",
    "    else:\n",
    "        print(\"a lebih besar dari b\")\n",
    "    \n",
    "    print (\"diluar if a < b\")\n",
    "    \n"
   ]
  },
  {
   "cell_type": "code",
   "execution_count": 8,
   "metadata": {},
   "outputs": [
    {
     "name": "stdout",
     "output_type": "stream",
     "text": [
      "a: 50 b: 10 c: 6\n",
      "a lebih besar dari b\n",
      "diluar if a < b\n"
     ]
    }
   ],
   "source": [
    "bandingAngka(50, 10, 6)"
   ]
  },
  {
   "cell_type": "code",
   "execution_count": 9,
   "metadata": {},
   "outputs": [
    {
     "name": "stdout",
     "output_type": "stream",
     "text": [
      "a: 1 b: 2 c: 3\n",
      "a < b\n",
      "a < b < c\n",
      "a < b dan a < c\n",
      "ok\n",
      "diluar if a < b\n"
     ]
    }
   ],
   "source": [
    "bandingAngka(1,2,3)"
   ]
  },
  {
   "cell_type": "code",
   "execution_count": 11,
   "metadata": {},
   "outputs": [
    {
     "name": "stdout",
     "output_type": "stream",
     "text": [
      "halo Betty\n"
     ]
    }
   ],
   "source": [
    "namaorang = \"Betty\"\n",
    "\n",
    "print(\"halo \" + namaorang)"
   ]
  },
  {
   "cell_type": "code",
   "execution_count": 83,
   "metadata": {},
   "outputs": [
    {
     "name": "stdout",
     "output_type": "stream",
     "text": [
      "halo ok ada 1\n"
     ]
    }
   ],
   "source": [
    "def sapa(namaorang):\n",
    "    print(\"halo \" + namaorang)\n",
    "    return \"hore\"\n",
    "    print(\"setelah return\") # semua code setelah return tidak dijalankan\n",
    "\n",
    "hasil1 = sapa(\"ok ada 1\")"
   ]
  },
  {
   "cell_type": "code",
   "execution_count": 31,
   "metadata": {},
   "outputs": [
    {
     "name": "stdout",
     "output_type": "stream",
     "text": [
      "hore\n"
     ]
    }
   ],
   "source": [
    "print(hasil1)"
   ]
  },
  {
   "cell_type": "code",
   "execution_count": 36,
   "metadata": {},
   "outputs": [
    {
     "name": "stdout",
     "output_type": "stream",
     "text": [
      "['nangka', 'belimbin', 'manggis', 'duku']\n",
      "['nangka', 'belimbin', 'manggis', 'duku', 'durian']\n"
     ]
    }
   ],
   "source": [
    "list_buah = [\"nangka\", \"belimbin\", \"manggis\", \"duku\"]\n",
    "\n",
    "def nambahBuah(a):\n",
    "    a.append(\"durian\")\n",
    "    \n",
    "print(list_buah)\n",
    "nambahBuah(list_buah)\n",
    "print(list_buah) #buahnya jadi ada 5, ini namanya pass by reference"
   ]
  },
  {
   "cell_type": "code",
   "execution_count": 37,
   "metadata": {},
   "outputs": [
    {
     "name": "stdout",
     "output_type": "stream",
     "text": [
      "['nangka', 'belimbin', 'manggis', 'duku', 'pisang']\n"
     ]
    }
   ],
   "source": [
    "list_buah = [\"nangka\", \"belimbin\", \"manggis\", \"duku\"]\n",
    "\n",
    "a = list_buah # seperti menulis a = list_buah = [\"nangka\", \"belimbin\", \"manggis\", \"duku\"]\n",
    "a.append(\"pisang\")\n",
    "\n",
    "print(list_buah)"
   ]
  },
  {
   "cell_type": "code",
   "execution_count": 38,
   "metadata": {},
   "outputs": [
    {
     "name": "stdout",
     "output_type": "stream",
     "text": [
      "pepaya\n"
     ]
    }
   ],
   "source": [
    "buah1 = \"pepaya\"\n",
    "\n",
    "buah2 = buah1 # seperti menulis buah2 = \"pepaya\", tidak mengganggu atau mereferensikan variable buah1\n",
    "buah2 += \" manis\"\n",
    "\n",
    "print(buah1) #pass by value"
   ]
  },
  {
   "cell_type": "code",
   "execution_count": 60,
   "metadata": {},
   "outputs": [
    {
     "name": "stdout",
     "output_type": "stream",
     "text": [
      "list lama: ['azka', 'abi', 'hesti']\n",
      "baru: ['azka', 'abi', 'hesti', 'idaz']\n"
     ]
    }
   ],
   "source": [
    "list1 = [\"azka\", \"abi\", \"hesti\"]\n",
    "\n",
    "def halo(a):        \n",
    "    list_baru = a.copy()\n",
    "    list_baru.append(\"idaz\") # baru yang kita  edit itu yang list baru\n",
    "    return list_baru # lalu di return\n",
    "    \n",
    "baru = halo(list1) # membuat sebuah list baru yang sudah di edit\n",
    "\n",
    "print(\"list lama:\", list1)\n",
    "print(\"baru:\", baru)"
   ]
  },
  {
   "cell_type": "code",
   "execution_count": 43,
   "metadata": {},
   "outputs": [
    {
     "name": "stdout",
     "output_type": "stream",
     "text": [
      "nama saya budi\n"
     ]
    }
   ],
   "source": [
    "def printnama():\n",
    "    print(\"nama saya budi\")\n",
    "    \n",
    "printnama()"
   ]
  },
  {
   "cell_type": "code",
   "execution_count": 53,
   "metadata": {},
   "outputs": [],
   "source": [
    "halo(list1)\n",
    "halo(list1)\n",
    "halo(list1)"
   ]
  },
  {
   "cell_type": "code",
   "execution_count": 54,
   "metadata": {},
   "outputs": [
    {
     "name": "stdout",
     "output_type": "stream",
     "text": [
      "['azka', 'abi', 'hesti', 'idaz', 'idaz', 'idaz', 'idaz']\n"
     ]
    }
   ],
   "source": [
    "print(list1)"
   ]
  },
  {
   "cell_type": "code",
   "execution_count": 59,
   "metadata": {},
   "outputs": [
    {
     "name": "stdout",
     "output_type": "stream",
     "text": [
      "['azka', 'abi', 'hesti', 'kevin']\n",
      "['azka', 'abi', 'hesti']\n"
     ]
    }
   ],
   "source": [
    "list2 = list1.copy()\n",
    "\n",
    "list2.append(\"kevin\")\n",
    "print(list2)"
   ]
  },
  {
   "cell_type": "code",
   "execution_count": 67,
   "metadata": {},
   "outputs": [
    {
     "name": "stdout",
     "output_type": "stream",
     "text": [
      "a: 3 b: 12 c: 1\n"
     ]
    }
   ],
   "source": [
    "def printme(a,b,c=10): #c adalah default argument, dia punya default value\n",
    "    print(\"a:\",a,\"b:\",b,\"c:\",c)\n",
    "\n",
    "printme(3,12,1)"
   ]
  },
  {
   "cell_type": "code",
   "execution_count": 71,
   "metadata": {},
   "outputs": [
    {
     "name": "stdout",
     "output_type": "stream",
     "text": [
      "a: 15 b: 3 c: 10\n"
     ]
    }
   ],
   "source": [
    "printme(a=15, b=3) #keyword argument"
   ]
  },
  {
   "cell_type": "code",
   "execution_count": 70,
   "metadata": {},
   "outputs": [
    {
     "name": "stdout",
     "output_type": "stream",
     "text": [
      "a: 5 b: 25 c: 10\n"
     ]
    }
   ],
   "source": [
    "printme(5,25)"
   ]
  },
  {
   "cell_type": "code",
   "execution_count": 80,
   "metadata": {},
   "outputs": [
    {
     "name": "stdout",
     "output_type": "stream",
     "text": [
      "genap: 10\n",
      "genap: 20\n",
      "genap: 30\n",
      "ganjil: 15\n"
     ]
    }
   ],
   "source": [
    "def printpanjang( *vartuple):\n",
    "    for num in vartuple:\n",
    "        if (num % 2 == 0):\n",
    "            print (\"genap:\", num)\n",
    "        else:\n",
    "            print (\"ganjil:\", num)\n",
    "            \n",
    "    \n",
    "printpanjang(10,20,30,15)"
   ]
  },
  {
   "cell_type": "code",
   "execution_count": 88,
   "metadata": {},
   "outputs": [
    {
     "name": "stdout",
     "output_type": "stream",
     "text": [
      "15\n"
     ]
    }
   ],
   "source": [
    "# function anonymous, bikin function tanpa pake def, \n",
    "# bikin function yang 1 baris pakai lambda dan selalu return\n",
    "\n",
    "# def tambah(a,b):\n",
    "#     return a+b\n",
    "\n",
    "tambah = lambda a,b : a+b;\n",
    "print(tambah(5,10))"
   ]
  },
  {
   "cell_type": "code",
   "execution_count": 103,
   "metadata": {},
   "outputs": [
    {
     "name": "stdout",
     "output_type": "stream",
     "text": [
      "208\n"
     ]
    },
    {
     "ename": "NameError",
     "evalue": "name 'b' is not defined",
     "output_type": "error",
     "traceback": [
      "\u001b[1;31m---------------------------------------------------------------------------\u001b[0m",
      "\u001b[1;31mNameError\u001b[0m                                 Traceback (most recent call last)",
      "\u001b[1;32m<ipython-input-103-fe02e78c1a2d>\u001b[0m in \u001b[0;36m<module>\u001b[1;34m\u001b[0m\n\u001b[0;32m      9\u001b[0m \u001b[0mprint\u001b[0m\u001b[1;33m(\u001b[0m\u001b[0mtambah\u001b[0m\u001b[1;33m(\u001b[0m\u001b[1;36m10\u001b[0m\u001b[1;33m,\u001b[0m\u001b[1;36m20\u001b[0m\u001b[1;33m)\u001b[0m\u001b[1;33m)\u001b[0m\u001b[1;33m\u001b[0m\u001b[1;33m\u001b[0m\u001b[0m\n\u001b[0;32m     10\u001b[0m \u001b[1;33m\u001b[0m\u001b[0m\n\u001b[1;32m---> 11\u001b[1;33m \u001b[0mprint\u001b[0m\u001b[1;33m(\u001b[0m\u001b[0mb\u001b[0m\u001b[1;33m)\u001b[0m \u001b[1;31m# error\u001b[0m\u001b[1;33m\u001b[0m\u001b[1;33m\u001b[0m\u001b[0m\n\u001b[0m",
      "\u001b[1;31mNameError\u001b[0m: name 'b' is not defined"
     ]
    }
   ],
   "source": [
    "global_c = 8 # milik semua orang, satu dunia\n",
    "\n",
    "def tambah(a,b):\n",
    "    # a dan b adalah variable local milik function tambah\n",
    "    a = a * 10 # local variable, milik function tambah saja\n",
    "    b = b * 5\n",
    "    return a+b+global_c # tidak error\n",
    "\n",
    "print(tambah(10,20))\n",
    "\n",
    "print(b) # error"
   ]
  },
  {
   "cell_type": "code",
   "execution_count": 119,
   "metadata": {},
   "outputs": [
    {
     "name": "stdout",
     "output_type": "stream",
     "text": [
      "num1: 15\n",
      "mul: 5\n",
      "num: 10\n",
      "num2: 8\n",
      "num: 10\n"
     ]
    }
   ],
   "source": [
    "num = 10\n",
    "\n",
    "def kalian(num1, num2):\n",
    "    if (num1 > 0):\n",
    "        multiplier = 5\n",
    "        num1 = num1 * multiplier\n",
    "        print(\"num1:\", num1)\n",
    "    \n",
    "    print(\"mul:\", multiplier)\n",
    "    print(\"num:\", num)\n",
    "    print(\"num2:\",num2)\n",
    "\n",
    "kalian(3,8)\n",
    "\n",
    "def kalian2():\n",
    "    #print(\"mul:\", multiplier) # milik function kalian, error\n",
    "    print(\"num:\", num) # global, boleh dipake\n",
    "    #print(\"num2:\",num2) # milik function kalian, error\n",
    "    \n",
    "kalian2()"
   ]
  },
  {
   "cell_type": "code",
   "execution_count": 109,
   "metadata": {},
   "outputs": [
    {
     "ename": "UnboundLocalError",
     "evalue": "local variable 'multiplier' referenced before assignment",
     "output_type": "error",
     "traceback": [
      "\u001b[1;31m---------------------------------------------------------------------------\u001b[0m",
      "\u001b[1;31mUnboundLocalError\u001b[0m                         Traceback (most recent call last)",
      "\u001b[1;32m<ipython-input-109-deddae175b57>\u001b[0m in \u001b[0;36m<module>\u001b[1;34m\u001b[0m\n\u001b[1;32m----> 1\u001b[1;33m \u001b[0mkalian\u001b[0m\u001b[1;33m(\u001b[0m\u001b[1;36m0\u001b[0m\u001b[1;33m,\u001b[0m\u001b[1;36m8\u001b[0m\u001b[1;33m)\u001b[0m\u001b[1;33m\u001b[0m\u001b[1;33m\u001b[0m\u001b[0m\n\u001b[0m",
      "\u001b[1;32m<ipython-input-108-815d3a22c332>\u001b[0m in \u001b[0;36mkalian\u001b[1;34m(num1, num2)\u001b[0m\n\u001b[0;32m      7\u001b[0m         \u001b[0mprint\u001b[0m\u001b[1;33m(\u001b[0m\u001b[1;34m\"num1:\"\u001b[0m\u001b[1;33m,\u001b[0m \u001b[0mnum1\u001b[0m\u001b[1;33m)\u001b[0m\u001b[1;33m\u001b[0m\u001b[1;33m\u001b[0m\u001b[0m\n\u001b[0;32m      8\u001b[0m \u001b[1;33m\u001b[0m\u001b[0m\n\u001b[1;32m----> 9\u001b[1;33m     \u001b[0mprint\u001b[0m\u001b[1;33m(\u001b[0m\u001b[0mmultiplier\u001b[0m\u001b[1;33m)\u001b[0m\u001b[1;33m\u001b[0m\u001b[1;33m\u001b[0m\u001b[0m\n\u001b[0m\u001b[0;32m     10\u001b[0m \u001b[1;33m\u001b[0m\u001b[0m\n\u001b[0;32m     11\u001b[0m \u001b[0mkalian\u001b[0m\u001b[1;33m(\u001b[0m\u001b[1;36m10\u001b[0m\u001b[1;33m,\u001b[0m\u001b[1;36m8\u001b[0m\u001b[1;33m)\u001b[0m\u001b[1;33m\u001b[0m\u001b[1;33m\u001b[0m\u001b[0m\n",
      "\u001b[1;31mUnboundLocalError\u001b[0m: local variable 'multiplier' referenced before assignment"
     ]
    }
   ],
   "source": [
    "kalian(0,8)"
   ]
  },
  {
   "cell_type": "code",
   "execution_count": 123,
   "metadata": {},
   "outputs": [
    {
     "name": "stdout",
     "output_type": "stream",
     "text": [
      "Andhika\n",
      "25\n",
      "salam kenal, saya Andhika\n"
     ]
    }
   ],
   "source": [
    "import mod\n",
    "\n",
    "print(mod.name)\n",
    "print(mod.age)\n",
    "mod.salam()"
   ]
  },
  {
   "cell_type": "code",
   "execution_count": 5,
   "metadata": {},
   "outputs": [
    {
     "name": "stdout",
     "output_type": "stream",
     "text": [
      "Andhika\n",
      "25\n",
      "salam kenal, saya Andhika\n"
     ]
    }
   ],
   "source": [
    "from mod import name, age, salam\n",
    "\n",
    "print(name)\n",
    "print(age)\n",
    "salam()"
   ]
  },
  {
   "cell_type": "code",
   "execution_count": 6,
   "metadata": {},
   "outputs": [
    {
     "name": "stdout",
     "output_type": "stream",
     "text": [
      "Andhika\n",
      "25\n",
      "salam kenal, saya Andhika\n"
     ]
    }
   ],
   "source": [
    "from mod import *\n",
    "\n",
    "print(name)\n",
    "print(age)\n",
    "salam()"
   ]
  },
  {
   "cell_type": "code",
   "execution_count": 7,
   "metadata": {},
   "outputs": [
    {
     "name": "stdout",
     "output_type": "stream",
     "text": [
      "Andhika 25\n",
      "salam kenal, saya Andhika\n",
      "nasi goreng\n"
     ]
    }
   ],
   "source": [
    "from mod import name as username, age as userage, salam as usersalam\n",
    "from mod2 import name as foodname\n",
    "\n",
    "print(username, userage)\n",
    "usersalam()\n",
    "print(foodname)"
   ]
  },
  {
   "cell_type": "code",
   "execution_count": 2,
   "metadata": {},
   "outputs": [
    {
     "data": {
      "text/plain": [
       "['C:\\\\Users\\\\stefa\\\\hacktiv\\\\PYTN\\\\pytn056',\n",
       " 'C:\\\\Users\\\\stefa\\\\anaconda3\\\\python38.zip',\n",
       " 'C:\\\\Users\\\\stefa\\\\anaconda3\\\\DLLs',\n",
       " 'C:\\\\Users\\\\stefa\\\\anaconda3\\\\lib',\n",
       " 'C:\\\\Users\\\\stefa\\\\anaconda3',\n",
       " '',\n",
       " 'C:\\\\Users\\\\stefa\\\\anaconda3\\\\lib\\\\site-packages',\n",
       " 'C:\\\\Users\\\\stefa\\\\anaconda3\\\\lib\\\\site-packages\\\\win32',\n",
       " 'C:\\\\Users\\\\stefa\\\\anaconda3\\\\lib\\\\site-packages\\\\win32\\\\lib',\n",
       " 'C:\\\\Users\\\\stefa\\\\anaconda3\\\\lib\\\\site-packages\\\\Pythonwin',\n",
       " 'C:\\\\Users\\\\stefa\\\\anaconda3\\\\lib\\\\site-packages\\\\IPython\\\\extensions',\n",
       " 'C:\\\\Users\\\\stefa\\\\.ipython']"
      ]
     },
     "execution_count": 2,
     "metadata": {},
     "output_type": "execute_result"
    }
   ],
   "source": [
    "import sys\n",
    "sys.path"
   ]
  },
  {
   "cell_type": "code",
   "execution_count": 4,
   "metadata": {},
   "outputs": [
    {
     "data": {
      "text/plain": [
       "['C:\\\\Users\\\\stefa\\\\hacktiv\\\\PYTN\\\\pytn056',\n",
       " 'C:\\\\Users\\\\stefa\\\\anaconda3\\\\python38.zip',\n",
       " 'C:\\\\Users\\\\stefa\\\\anaconda3\\\\DLLs',\n",
       " 'C:\\\\Users\\\\stefa\\\\anaconda3\\\\lib',\n",
       " 'C:\\\\Users\\\\stefa\\\\anaconda3',\n",
       " '',\n",
       " 'C:\\\\Users\\\\stefa\\\\anaconda3\\\\lib\\\\site-packages',\n",
       " 'C:\\\\Users\\\\stefa\\\\anaconda3\\\\lib\\\\site-packages\\\\win32',\n",
       " 'C:\\\\Users\\\\stefa\\\\anaconda3\\\\lib\\\\site-packages\\\\win32\\\\lib',\n",
       " 'C:\\\\Users\\\\stefa\\\\anaconda3\\\\lib\\\\site-packages\\\\Pythonwin',\n",
       " 'C:\\\\Users\\\\stefa\\\\anaconda3\\\\lib\\\\site-packages\\\\IPython\\\\extensions',\n",
       " 'C:\\\\Users\\\\stefa\\\\.ipython',\n",
       " 'C:\\\\Users\\\\stefa\\\\Music']"
      ]
     },
     "execution_count": 4,
     "metadata": {},
     "output_type": "execute_result"
    }
   ],
   "source": [
    "sys.path.append(r'C:\\Users\\stefa\\Music')\n",
    "sys.path"
   ]
  },
  {
   "cell_type": "code",
   "execution_count": 5,
   "metadata": {},
   "outputs": [
    {
     "name": "stdout",
     "output_type": "stream",
     "text": [
      "Welcome to Hacktiv8 PTP Python Class\n",
      "module 3\n"
     ]
    }
   ],
   "source": [
    "try:\n",
    "    import mod3\n",
    "\n",
    "    print(mod3.message)\n",
    "    print(mod3.name)\n",
    "except ImportError:\n",
    "    print(\"import mod3 gagal\")"
   ]
  },
  {
   "cell_type": "code",
   "execution_count": 4,
   "metadata": {},
   "outputs": [
    {
     "name": "stdout",
     "output_type": "stream",
     "text": [
      "Hello World!\n"
     ]
    }
   ],
   "source": [
    "mod3.helloworld()"
   ]
  },
  {
   "cell_type": "code",
   "execution_count": 5,
   "metadata": {},
   "outputs": [
    {
     "data": {
      "text/plain": [
       "'C:\\\\Users\\\\stefa\\\\Music\\\\mod3.py'"
      ]
     },
     "execution_count": 5,
     "metadata": {},
     "output_type": "execute_result"
    }
   ],
   "source": [
    "mod3.__file__"
   ]
  },
  {
   "cell_type": "code",
   "execution_count": 8,
   "metadata": {},
   "outputs": [
    {
     "data": {
      "text/plain": [
       "['In',\n",
       " 'Out',\n",
       " '_',\n",
       " '_1',\n",
       " '_2',\n",
       " '_3',\n",
       " '_4',\n",
       " '_6',\n",
       " '__',\n",
       " '___',\n",
       " '__builtin__',\n",
       " '__builtins__',\n",
       " '__doc__',\n",
       " '__loader__',\n",
       " '__name__',\n",
       " '__package__',\n",
       " '__spec__',\n",
       " '_dh',\n",
       " '_i',\n",
       " '_i1',\n",
       " '_i2',\n",
       " '_i3',\n",
       " '_i4',\n",
       " '_i5',\n",
       " '_i6',\n",
       " '_i7',\n",
       " '_i8',\n",
       " '_ih',\n",
       " '_ii',\n",
       " '_iii',\n",
       " '_oh',\n",
       " 'exit',\n",
       " 'foodname',\n",
       " 'get_ipython',\n",
       " 'mod3',\n",
       " 'quit',\n",
       " 'sys',\n",
       " 'userage',\n",
       " 'username',\n",
       " 'usersalam']"
      ]
     },
     "execution_count": 8,
     "metadata": {},
     "output_type": "execute_result"
    }
   ],
   "source": [
    "dir() # melihat nama nama variable/function yang sudah ada di file ini, termasuk yang dari import"
   ]
  },
  {
   "cell_type": "code",
   "execution_count": 1,
   "metadata": {},
   "outputs": [
    {
     "name": "stdout",
     "output_type": "stream",
     "text": [
      "salam kenal, saya Andhika\n"
     ]
    }
   ],
   "source": [
    "import mod"
   ]
  },
  {
   "cell_type": "code",
   "execution_count": 2,
   "metadata": {},
   "outputs": [
    {
     "name": "stdout",
     "output_type": "stream",
     "text": [
      "salam kenal, saya Andhika\n"
     ]
    },
    {
     "data": {
      "text/plain": [
       "<module 'mod' from 'C:\\\\Users\\\\stefa\\\\hacktiv\\\\PYTN\\\\pytn056\\\\mod.py'>"
      ]
     },
     "execution_count": 2,
     "metadata": {},
     "output_type": "execute_result"
    }
   ],
   "source": [
    "import importlib\n",
    "importlib.reload(mod) # memanggil ulang module kita"
   ]
  },
  {
   "cell_type": "code",
   "execution_count": 4,
   "metadata": {},
   "outputs": [
    {
     "name": "stdout",
     "output_type": "stream",
     "text": [
      "Andhika\n",
      "nasi goreng\n"
     ]
    }
   ],
   "source": [
    "import pkg.mod, pkg.mod2\n",
    "\n",
    "print(pkg.mod.name)\n",
    "print(pkg.mod2.name)"
   ]
  },
  {
   "cell_type": "code",
   "execution_count": 2,
   "metadata": {},
   "outputs": [
    {
     "data": {
      "text/plain": [
       "['C:\\\\Users\\\\stefa\\\\hacktiv\\\\PYTN\\\\pytn056',\n",
       " 'C:\\\\Users\\\\stefa\\\\anaconda3\\\\python38.zip',\n",
       " 'C:\\\\Users\\\\stefa\\\\anaconda3\\\\DLLs',\n",
       " 'C:\\\\Users\\\\stefa\\\\anaconda3\\\\lib',\n",
       " 'C:\\\\Users\\\\stefa\\\\anaconda3',\n",
       " '',\n",
       " 'C:\\\\Users\\\\stefa\\\\anaconda3\\\\lib\\\\site-packages',\n",
       " 'C:\\\\Users\\\\stefa\\\\anaconda3\\\\lib\\\\site-packages\\\\win32',\n",
       " 'C:\\\\Users\\\\stefa\\\\anaconda3\\\\lib\\\\site-packages\\\\win32\\\\lib',\n",
       " 'C:\\\\Users\\\\stefa\\\\anaconda3\\\\lib\\\\site-packages\\\\Pythonwin',\n",
       " 'C:\\\\Users\\\\stefa\\\\anaconda3\\\\lib\\\\site-packages\\\\IPython\\\\extensions',\n",
       " 'C:\\\\Users\\\\stefa\\\\.ipython',\n",
       " 'C:\\\\Users\\\\stefa\\\\hacktiv\\\\PYTN\\\\pytn056\\\\pkg']"
      ]
     },
     "execution_count": 2,
     "metadata": {},
     "output_type": "execute_result"
    }
   ],
   "source": [
    "import sys\n",
    "sys.path.append(r'C:\\Users\\stefa\\hacktiv\\PYTN\\pytn056\\pkg')\n",
    "sys.path"
   ]
  },
  {
   "cell_type": "code",
   "execution_count": 5,
   "metadata": {},
   "outputs": [
    {
     "name": "stdout",
     "output_type": "stream",
     "text": [
      "Andhika\n"
     ]
    }
   ],
   "source": [
    "from pkg import mod\n",
    "\n",
    "print(pkg.mod.name)"
   ]
  },
  {
   "cell_type": "code",
   "execution_count": 7,
   "metadata": {},
   "outputs": [
    {
     "data": {
      "text/plain": [
       "<module 'pkg' (namespace)>"
      ]
     },
     "execution_count": 7,
     "metadata": {},
     "output_type": "execute_result"
    }
   ],
   "source": [
    "import pkg\n",
    "\n",
    "pkg"
   ]
  },
  {
   "cell_type": "code",
   "execution_count": 8,
   "metadata": {},
   "outputs": [
    {
     "data": {
      "text/plain": [
       "<module 'pkg.mod' from 'C:\\\\Users\\\\stefa\\\\hacktiv\\\\PYTN\\\\pytn056\\\\pkg\\\\mod.py'>"
      ]
     },
     "execution_count": 8,
     "metadata": {},
     "output_type": "execute_result"
    }
   ],
   "source": [
    "pkg.mod"
   ]
  },
  {
   "cell_type": "code",
   "execution_count": 9,
   "metadata": {},
   "outputs": [
    {
     "data": {
      "text/plain": [
       "25"
      ]
     },
     "execution_count": 9,
     "metadata": {},
     "output_type": "execute_result"
    }
   ],
   "source": [
    "pkg.mod.age"
   ]
  },
  {
   "cell_type": "code",
   "execution_count": 18,
   "metadata": {},
   "outputs": [
    {
     "name": "stdout",
     "output_type": "stream",
     "text": [
      "Response dari hacktiv8: 200, OK\n"
     ]
    }
   ],
   "source": [
    "import requests\n",
    "\n",
    "url = 'https://www.hacktiv8.com'\n",
    "response = requests.get(url)\n",
    "print(f'Response dari hacktiv8: {response.status_code}, {response.reason}')"
   ]
  },
  {
   "cell_type": "code",
   "execution_count": 16,
   "metadata": {},
   "outputs": [
    {
     "name": "stdout",
     "output_type": "stream",
     "text": [
      "<!DOCTYPE html><!-- Last Published: Mon Jun 07 2021 10:27:48 GMT+0000 (Coordinated Universal Time) --><html data-wf-domain=\"www.hacktiv8.com\" data-wf-page=\"60474fb5a7e53938ad4c83c5\" data-wf-site=\"5f0d53c042a9ed6288de7f8d\"><head><meta charset=\"utf-8\"/><title>Hacktiv8 Homepage</title><meta content=\"Hacktiv8 adalah sebuah pelatihan coding fulltime di Jakarta yang membantu pemula untuk menjadi fullstack developer dalam 12 minggu.\" name=\"description\"/><meta content=\"Hacktiv8 Homepage\" property=\"og:title\"/><meta content=\"Hacktiv8 adalah sebuah pelatihan coding fulltime di Jakarta yang membantu pemula untuk menjadi fullstack developer dalam 12 minggu.\" property=\"og:description\"/><meta content=\"https://s3-ap-southeast-1.amazonaws.com/hacktiv8.com/img/_BEASISWA.JPG\" property=\"og:image\"/><meta content=\"Hacktiv8 Homepage\" property=\"twitter:title\"/><meta content=\"Hacktiv8 adalah sebuah pelatihan coding fulltime di Jakarta yang membantu pemula untuk menjadi fullstack developer dalam 12 minggu.\" property=\"twitter:description\"/><meta content=\"https://s3-ap-southeast-1.amazonaws.com/hacktiv8.com/img/_BEASISWA.JPG\" property=\"twitter:image\"/><meta property=\"og:type\" content=\"website\"/><meta content=\"summary_large_image\" name=\"twitter:card\"/><meta content=\"width=device-width, initial-scale=1\" name=\"viewport\"/><meta content=\"wjWUYiLcGUET0_pFe_06wzFCHPWYp-12gWmcrnDgLCw\" name=\"google-site-verification\"/><link href=\"https://global-uploads.webflow.com/5f0d53c042a9ed6288de7f8d/css/wearehacktiv8.webflow.3bb8ec6d4.min.css\" rel=\"stylesheet\" type=\"text/css\"/><script src=\"https://ajax.googleapis.com/ajax/libs/webfont/1.6.26/webfont.js\" type=\"text/javascript\"></script><script type=\"text/javascript\">WebFont.load({  google: {    families: [\"Reenie Beanie:regular\"]  }});</script><!--[if lt IE 9]><script src=\"https://cdnjs.cloudflare.com/ajax/libs/html5shiv/3.7.3/html5shiv.min.js\" type=\"text/javascript\"></script><![endif]--><script type=\"text/javascript\">!function(o,c){var n=c.documentElement,t=\" w-mod-\";n.className+=t+\"js\",(\"ontouchstart\"in o||o.DocumentTouch&&c instanceof DocumentTouch)&&(n.className+=t+\"touch\")}(window,document);</script><link href=\"https://global-uploads.webflow.com/5f0d53c042a9ed6288de7f8d/5f30b807f2eb20fe6e75c932_h8_favicon.png\" rel=\"shortcut icon\" type=\"image/x-icon\"/><link href=\"https://global-uploads.webflow.com/5f0d53c042a9ed6288de7f8d/5f30b862e0a2e4673b29cad7_h8_favicon_large.png\" rel=\"apple-touch-icon\"/><style>.anti-flicker-hide { opacity: 0 !important}</style><script type=\"text/javascript\">(function(a,s,y,n,c,h,i,d,e){s.className+=' '+y;h.start=1*new Date;h.end=i=function(){s.className=s.className.replace(RegExp(' ?'+y),'')};(a[n]=a[n]||[]).hide=h;setTimeout(function(){i();h.end=null},c);h.timeout=c;})(window,document.documentElement,'anti-flicker-hide','dataLayer',4000,{'OPT-KJG9BSN':true});</script><script async=\"\" src=\"https://www.googletagmanager.com/gtag/js?id=UA-75027356-1\"></script><script type=\"text/javascript\">window.dataLayer = window.dataLayer || [];function gtag(){dataLayer.push(arguments);}gtag('js', new Date());gtag('config', 'UA-75027356-1', {'anonymize_ip': false, 'optimize_id': 'OPT-KJG9BSN'});</script><!-- Google Tag Manager -->\n",
      "<script>(function(w,d,s,l,i){w[l]=w[l]||[];w[l].push({'gtm.start':\n",
      "new Date().getTime(),event:'gtm.js'});var f=d.getElementsByTagName(s)[0],\n",
      "j=d.createElement(s),dl=l!='dataLayer'?'&l='+l:'';j.async=true;j.src=\n",
      "'https://www.googletagmanager.com/gtm.js?id='+i+dl;f.parentNode.insertBefore(j,f);\n",
      "})(window,document,'script','dataLayer','GTM-KJZ2C4');</script>\n",
      "<!-- End Google Tag Manager -->\n",
      "\n",
      "<style>\n",
      "body {\n",
      "    -moz-osx-font-smoothing: grayscale;\n",
      "    -webkit-font-smoothing: antialiased;\n",
      "}\n",
      "select { \n",
      "  -webkit-appearance: none;\n",
      "}\n",
      "</style>\n",
      "\n",
      "<!-- Wasap chat -->\n",
      "<div id=\"whatsapp-widget\" style=\"display:none\">\n",
      "  <span>\n",
      "    <a href=\"https://wa.me/+622150996662\" target=\"_blank\"> \n",
      "      <img src=\"https://global-uploads.webflow.com/5f0d53c042a9ed6288de7f8d/5f6c638a870a5d674d07bd30_wa-logo.png\" width=\"60\" height=\"60\"\n",
      "      style=\"position: fixed !important; bottom: 10px; right: 10px; z-index: 999\" />\n",
      "    </a>\n",
      "  </span>\n",
      "</div>\n",
      "<script src=\"https://chat-assets.frontapp.com/v1/chat.bundle.js\"></script>\n",
      "<script>\n",
      "  var isMobile = window.orientation > -1;\n",
      "  if (isMobile) {\n",
      "    // Whatapps chat is here\n",
      "    document.getElementById('whatsapp-widget').style.display = 'block';\n",
      "  } else {\n",
      "    // Front Chat is Here\n",
      "    window.FrontChat('init', {\n",
      "      chatId: '7171b1ff925c4a05abd2e4630d7c2895',\n",
      "      useDefaultLauncher: true\n",
      "    })\n",
      "  }\n",
      "</script>\n",
      "<script src=\"https://cdn.jsdelivr.net/npm/js-cookie@rc/dist/js.cookie.min.js\"></script></head><body><div class=\"navbar-container\"><div class=\"navbar-bg\"></div><div class=\"main-container\"><div data-collapse=\"medium\" data-animation=\"default\" data-duration=\"400\" role=\"banner\" class=\"navbar custom-navbar-employer w-nav\"><div class=\"navbar-justify-between\"><div class=\"navbar-left-contents\"><a href=\"/\" aria-current=\"page\" class=\"brand w-nav-brand w--current\"><img src=\"https://global-uploads.webflow.com/5f0d53c042a9ed6288de7f8d/5f6337ae2cfaa10946ceeb06_Hacktiv8%20logo%20horizontal%2001%20black.png\" width=\"226\" sizes=\"(max-width: 479px) 70vw, (max-width: 991px) 226px, (max-width: 1919px) 20vw, 226px\" srcset=\"https://global-uploads.webflow.com/5f0d53c042a9ed6288de7f8d/5f6337ae2cfaa10946ceeb06_Hacktiv8%20logo%20horizontal%2001%20black-p-500.png 500w, https://global-uploads.webflow.com/5f0d53c042a9ed6288de7f8d/5f6337ae2cfaa10946ceeb06_Hacktiv8%20logo%20horizontal%2001%20black-p-800.png 800w, https://global-uploads.webflow.com/5f0d53c042a9ed6288de7f8d/5f6337ae2cfaa10946ceeb06_Hacktiv8%20logo%20horizontal%2001%20black-p-1080.png 1080w, https://global-uploads.webflow.com/5f0d53c042a9ed6288de7f8d/5f6337ae2cfaa10946ceeb06_Hacktiv8%20logo%20horizontal%2001%20black-p-1600.png 1600w, https://global-uploads.webflow.com/5f0d53c042a9ed6288de7f8d/5f6337ae2cfaa10946ceeb06_Hacktiv8%20logo%20horizontal%2001%20black-p-2000.png 2000w, https://global-uploads.webflow.com/5f0d53c042a9ed6288de7f8d/5f6337ae2cfaa10946ceeb06_Hacktiv8%20logo%20horizontal%2001%20black-p-2600.png 2600w, https://global-uploads.webflow.com/5f0d53c042a9ed6288de7f8d/5f6337ae2cfaa10946ceeb06_Hacktiv8%20logo%20horizontal%2001%20black-p-3200.png 3200w, https://global-uploads.webflow.com/5f0d53c042a9ed6288de7f8d/5f6337ae2cfaa10946ceeb06_Hacktiv8%20logo%20horizontal%2001%20black.png 3497w\" alt=\"\"/></a></div><div class=\"navbar-right-contents\"><nav role=\"navigation\" class=\"nav-menu nav-menu-right-aligned w-nav-menu\"><div data-delay=\"200\" data-hover=\"\" class=\"dropdown w-dropdown\"><div class=\"nav-link w-dropdown-toggle\"><div>Bootcamp</div><img src=\"https://global-uploads.webflow.com/5f0d53c042a9ed6288de7f8d/5f0d53c0f62907579e0d5227_icon-dropdown-arrow.svg\" alt=\"\" class=\"dropdown-icon\"/></div><nav class=\"dropdown-list w-dropdown-list\"><div><div>Intensive Coding Bootcamp</div></div><div><a href=\"/fullstack/remote\" class=\"dropdown-link w-dropdown-link\">Full Stack JavaScript Immersive</a></div><div><a href=\"/fullstack/h8-fullstack-flex\" class=\"dropdown-link w-dropdown-link\">Full Stack JavaScript Flex</a></div><div><a href=\"/fullstack/bootcamp-data-science\" class=\"dropdown-link w-dropdown-link\">Data Science Bootcamp</a></div></nav></div><div data-delay=\"200\" data-hover=\"\" class=\"dropdown w-dropdown\"><div class=\"nav-link w-dropdown-toggle\"><div>Professional Development</div><img src=\"https://global-uploads.webflow.com/5f0d53c042a9ed6288de7f8d/5f0d53c0f62907579e0d5227_icon-dropdown-arrow.svg\" alt=\"\" class=\"dropdown-icon\"/></div><nav class=\"dropdown-list w-dropdown-list\"><div><a href=\"/parttime/digital-marketing\" class=\"dropdown-link w-dropdown-link\">Digital Marketing</a></div><div><a href=\"/parttime/intro-to-programming\" class=\"dropdown-link w-dropdown-link\">Intro to Programming</a></div><div><a href=\"/parttime/python-basic\" class=\"dropdown-link w-dropdown-link\">Intro to Python </a></div><div><a href=\"/parttime/react-basic\" class=\"dropdown-link w-dropdown-link\">React &amp; React Native Basic </a></div><div><a href=\"/parttime/golang\" class=\"dropdown-link w-dropdown-link\">Scalable Service with Golang</a></div><a href=\"/parttime/product-owner\" class=\"dropdown-link w-dropdown-link\">Product Owner</a><a href=\"/parttime/scrum\" class=\"dropdown-link w-dropdown-link\">Agile Scrum</a><a href=\"/parttime/uiux\" class=\"dropdown-link w-dropdown-link\">Fundamental UI/UX Design</a></nav></div><div data-delay=\"200\" data-hover=\"\" class=\"dropdown w-dropdown\"><div class=\"nav-link w-dropdown-toggle\"><div>Admissions</div><img src=\"https://global-uploads.webflow.com/5f0d53c042a9ed6288de7f8d/5f0d53c0f62907579e0d5227_icon-dropdown-arrow.svg\" alt=\"\" class=\"dropdown-icon\"/></div><nav class=\"dropdown-list w-dropdown-list\"><div><a href=\"/admissions\" class=\"dropdown-link w-dropdown-link\">Admissions Info</a><a href=\"/isa\" class=\"dropdown-link isa-field w-dropdown-link\">Income Share Agreement</a><a href=\"/loan-partner\" class=\"dropdown-link isa-field w-dropdown-link\">Financial Partner</a><a href=\"/registrasi-grup\" class=\"dropdown-link isa-field w-dropdown-link\">Group Registration Program</a><a href=\"/referensikan-temanmu\" class=\"dropdown-link isa-field w-dropdown-link\">Referral Program</a></div></nav></div><div data-delay=\"200\" data-hover=\"\" class=\"dropdown w-dropdown\"><div class=\"nav-link w-dropdown-toggle\"><div>Students</div><img src=\"https://global-uploads.webflow.com/5f0d53c042a9ed6288de7f8d/5f0d53c0f62907579e0d5227_icon-dropdown-arrow.svg\" alt=\"\" class=\"dropdown-icon\"/></div><nav class=\"dropdown-list dropdown-list-right w-dropdown-list\"><div><a href=\"/outcomes\" class=\"dropdown-link w-dropdown-link\">Outcomes</a><a href=\"/portfolios\" class=\"dropdown-link w-dropdown-link\">Portfolios</a></div></nav></div><a href=\"/employers\" class=\"nav-link w-nav-link\">Hire Our Grads</a><a href=\"/corporate-training\" class=\"nav-link w-nav-link\">CorporateÂ Training</a></nav></div><div class=\"menu-button w-nav-button\"><img src=\"https://global-uploads.webflow.com/5f0d53c042a9ed6288de7f8d/5f0d53c0f62907b1fe0d521f_icon-menu.svg\" alt=\"\" class=\"menu-button-image\"/><img src=\"https://global-uploads.webflow.com/5f0d53c042a9ed6288de7f8d/5f0d53c0f6290799ce0d5226_icon-x.svg\" alt=\"\" class=\"menu-button-close-image\"/></div></div></div></div></div><div class=\"hero-section-3\"><div data-poster-url=\"https://global-uploads.webflow.com/5f0d53c042a9ed6288de7f8d/5f6abb3e042b757e48a3fa21_CROP-poster-00001.jpg\" data-video-urls=\"https://global-uploads.webflow.com/5f0d53c042a9ed6288de7f8d/5f6abb3e042b757e48a3fa21_CROP-transcode.mp4,https://global-uploads.webflow.com/5f0d53c042a9ed6288de7f8d/5f6abb3e042b757e48a3fa21_CROP-transcode.webm\" data-autoplay=\"true\" data-loop=\"true\" data-wf-ignore=\"true\" class=\"background-video w-background-video w-background-video-atom\"><video autoplay=\"\" loop=\"\" style=\"background-image:url(&quot;https://global-uploads.webflow.com/5f0d53c042a9ed6288de7f8d/5f6abb3e042b757e48a3fa21_CROP-poster-00001.jpg&quot;)\" muted=\"\" playsinline=\"\" data-wf-ignore=\"true\" data-object-fit=\"cover\"><source src=\"https://global-uploads.webflow.com/5f0d53c042a9ed6288de7f8d/5f6abb3e042b757e48a3fa21_CROP-transcode.mp4\" data-wf-ignore=\"true\"/><source src=\"https://global-uploads.webflow.com/5f0d53c042a9ed6288de7f8d/5f6abb3e042b757e48a3fa21_CROP-transcode.webm\" data-wf-ignore=\"true\"/></video></div><div class=\"hero-section-3-container\"><div class=\"main-container\"><div class=\"container hero-section-3-content\"><h1 class=\"display-heading-1 text-white\">Bangun Karir Bersama Hacktiv8</h1><p class=\"text-large text-white\">Hacktiv8 adalah program pembelajaran JavaScript Programming yang mentransformasi pemula menjadi programmer siap kerja.</p><a href=\"https://www.hacktiv8.com/fullstack/remote#detail-program\" class=\"button horizontal-cta-button custom-margin w-inline-block\"><div>Pelajari Hacktiv8 Lebih Lanjut</div></a></div></div></div></div><div class=\"section-4\"><div data-animation=\"slide\" data-nav-spacing=\"4\" data-duration=\"1000\" data-infinite=\"1\" class=\"slider w-slider\"><div class=\"w-slider-mask\"><div class=\"w-slide\"><a href=\"/fullstack/h8-fullstack-flex\" class=\"w-inline-block\"><img src=\"https://global-uploads.webflow.com/5f0d53c042a9ed6288de7f8d/600e51e4afcfe97103efb2fb_25%20website%20banner%20-%205%201200%20x%20450%402x.jpg\" sizes=\"100vw\" srcset=\"https://global-uploads.webflow.com/5f0d53c042a9ed6288de7f8d/600e51e4afcfe97103efb2fb_25%20website%20banner%20-%205%201200%20x%20450%402x-p-500.jpeg 500w, https://global-uploads.webflow.com/5f0d53c042a9ed6288de7f8d/600e51e4afcfe97103efb2fb_25%20website%20banner%20-%205%201200%20x%20450%402x-p-1080.jpeg 1080w, https://global-uploads.webflow.com/5f0d53c042a9ed6288de7f8d/600e51e4afcfe97103efb2fb_25%20website%20banner%20-%205%201200%20x%20450%402x-p-2000.jpeg 2000w, https://global-uploads.webflow.com/5f0d53c042a9ed6288de7f8d/600e51e4afcfe97103efb2fb_25%20website%20banner%20-%205%201200%20x%20450%402x.jpg 2400w\" alt=\"\" class=\"fullwidth-image\"/></a></div></div><div class=\"button-round button-round-small gallery-button-left w-slider-arrow-left\"><img src=\"https://global-uploads.webflow.com/5f0d53c042a9ed6288de7f8d/5f0d53c0f6290742970d523d_icon-chevron-left.svg\" alt=\"\"/></div><div class=\"button-round button-round-small gallery-button-right w-slider-arrow-right\"><img src=\"https://global-uploads.webflow.com/5f0d53c042a9ed6288de7f8d/5f0d53c0f62907753e0d523a_icon-chevron-right.svg\" alt=\"\"/></div><div class=\"slide-nav-inside w-slider-nav w-round\"></div></div></div><div class=\"section-3\"><div data-animation=\"slide\" data-nav-spacing=\"4\" data-duration=\"1000\" data-infinite=\"1\" class=\"slider w-slider\"><div class=\"w-slider-mask\"><div class=\"w-slide\"><a href=\"https://bit.ly/h8oh0321\" target=\"_blank\" class=\"w-inline-block\"><img src=\"https://global-uploads.webflow.com/5f0d53c042a9ed6288de7f8d/6034a31e07206d1087ef3ebb_open%20house%20maret-07.png\" alt=\"\" class=\"fullwidth-image\"/></a></div><div class=\"w-slide\"><a href=\"/fullstack/h8-fullstack-flex\" class=\"w-inline-block\"><img src=\"https://global-uploads.webflow.com/5f0d53c042a9ed6288de7f8d/600e52e6bcd3e4f4ed50296a_25%20website%20banner%20-%205%201080%20x%201080.jpg\" sizes=\"100vw\" srcset=\"https://global-uploads.webflow.com/5f0d53c042a9ed6288de7f8d/600e52e6bcd3e4f4ed50296a_25%20website%20banner%20-%205%201080%20x%201080-p-500.jpeg 500w, https://global-uploads.webflow.com/5f0d53c042a9ed6288de7f8d/600e52e6bcd3e4f4ed50296a_25%20website%20banner%20-%205%201080%20x%201080-p-800.jpeg 800w, https://global-uploads.webflow.com/5f0d53c042a9ed6288de7f8d/600e52e6bcd3e4f4ed50296a_25%20website%20banner%20-%205%201080%20x%201080.jpg 1080w\" alt=\"\" class=\"fullwidth-image\"/></a></div></div><div class=\"button-round button-round-small gallery-button-left w-slider-arrow-left\"><img src=\"https://global-uploads.webflow.com/5f0d53c042a9ed6288de7f8d/5f0d53c0f6290742970d523d_icon-chevron-left.svg\" alt=\"\"/></div><div class=\"button-round button-round-small gallery-button-right w-slider-arrow-right\"><img src=\"https://global-uploads.webflow.com/5f0d53c042a9ed6288de7f8d/5f0d53c0f62907753e0d523a_icon-chevron-right.svg\" alt=\"\"/></div><div class=\"slide-nav-inside w-slider-nav w-round\"></div></div></div><div class=\"section custom-padding-62px\"><div class=\"main-container\"><div class=\"container-large align-center section-title\"><h3 class=\"large-heading section-title custom-metrics\">Usaha Kami Dalam Memajukan Industri Teknologi Indonesia</h3></div><div class=\"w-layout-grid metrics-grid-thirds\"><div class=\"container-small narrow\"><div class=\"display-heading-1 metric-heading text-primary-1\">1000+</div><h6>Alumni</h6></div><div class=\"container-small narrow\"><div class=\"display-heading-1 metric-heading text-primary-1\">350+</div><h6>Hiring Partner</h6></div><div class=\"container-small narrow\"><div class=\"display-heading-1 metric-heading text-primary-1\">Rp 9 Juta</div><h6>Gaji Rata-Rata Alumni</h6><h6 class=\"cirr-notes\">*According to CIRR H1/2020 released on March 2021</h6></div></div></div></div><div class=\"section bg-primary-2 custom-padding-62px\"><div class=\"main-container text-center\"><div class=\"container-large wide align-center\"><div class=\"justify-content-center\"><h3 class=\"large-heading section-title custom-metrics text-white\">Coding Bootcamp Pertama di Asia yang Tergabung dalam CIRR</h3><img src=\"https://global-uploads.webflow.com/5f0d53c042a9ed6288de7f8d/5f17a0de30966302d13bf903_CIRR.png\" sizes=\"(max-width: 479px) 78vw, 155px\" srcset=\"https://global-uploads.webflow.com/5f0d53c042a9ed6288de7f8d/5f17a0de30966302d13bf903_CIRR-p-500.png 500w, https://global-uploads.webflow.com/5f0d53c042a9ed6288de7f8d/5f17a0de30966302d13bf903_CIRR-p-800.png 800w, https://global-uploads.webflow.com/5f0d53c042a9ed6288de7f8d/5f17a0de30966302d13bf903_CIRR-p-1080.png 1080w, https://global-uploads.webflow.com/5f0d53c042a9ed6288de7f8d/5f17a0de30966302d13bf903_CIRR-p-1600.png 1600w, https://global-uploads.webflow.com/5f0d53c042a9ed6288de7f8d/5f17a0de30966302d13bf903_CIRR.png 4063w\" alt=\"\" class=\"logo-row-item custom-margin\"/><div class=\"text-large text-white text-center\">Council on Integrity in Results Reporting (CIRR) adalah standar yang dikembangkan oleh sekelompok besar sekolah coding yang percaya bahwa transparansi dalam memberikan hasil belajar kepada calon siswa adalah hal yang sangat penting. Kami adalah coding bootcamp pertama di Asia yang tergabung dalam CIRR.</div><div class=\"button-with-link-container\"><a href=\"/outcomes\" class=\"link-with-arrow w-inline-block\"><div>Lihat Lebih Lanjut</div><img src=\"https://global-uploads.webflow.com/5f0d53c042a9ed6288de7f8d/5f0d53c0f629079cec0d5259_icon-arrow-right.svg\" alt=\"\" class=\"link-arrow\"/></a></div></div></div></div></div><div class=\"section no-top-padding custom-padding-62px\"><div class=\"main-container\"><div class=\"w-layout-grid portrait-links-grid homepage-grid\"><div class=\"container-small align-center\"><a href=\"/fullstack/remote\" class=\"portrait-link-box w-inline-block\"><img src=\"https://global-uploads.webflow.com/5f0d53c042a9ed6288de7f8d/5fd31fc288a2a7375b87543b_1%20(26).jpg\" alt=\"\"/><div class=\"boxed portrait-link-box-content\"><h3 class=\"portrait-link-box-heading\">Full Stack Immersive</h3><div>Info Lanjut</div></div></a></div><div class=\"container-small align-center\"><a href=\"/fullstack/remote\" class=\"portrait-link-box w-inline-block\"><img src=\"https://global-uploads.webflow.com/5f0d53c042a9ed6288de7f8d/5fd31fdad928ad04ca15c5b1_9%20(2).jpg\" alt=\"\"/><div class=\"boxed portrait-link-box-content\"><h3 class=\"portrait-link-box-heading\">Full Stack Flex</h3><div>Info Lanjut</div></div></a></div><div class=\"container-small align-center\"><a href=\"/fullstack/bootcamp-data-science\" class=\"portrait-link-box w-inline-block\"><img src=\"https://global-uploads.webflow.com/5f0d53c042a9ed6288de7f8d/606c14897b213369d5038930_H8%20190%20-%20PEGAWAI.jpg\" sizes=\"(max-width: 479px) 89vw, 400px\" srcset=\"https://global-uploads.webflow.com/5f0d53c042a9ed6288de7f8d/606c14897b213369d5038930_H8%20190%20-%20PEGAWAI-p-500.jpeg 500w, https://global-uploads.webflow.com/5f0d53c042a9ed6288de7f8d/606c14897b213369d5038930_H8%20190%20-%20PEGAWAI.jpg 800w\" alt=\"\"/><div class=\"boxed portrait-link-box-content\"><h3 class=\"portrait-link-box-heading\">Data Science </h3><div>Info Lanjut</div></div></a></div><div class=\"container-small align-center\"><a href=\"/parttime\" class=\"portrait-link-box w-inline-block\"><img src=\"https://global-uploads.webflow.com/5f0d53c042a9ed6288de7f8d/5fd31fe1c6e4d856269a8269_7%20(2).jpg\" alt=\"\"/><div class=\"boxed portrait-link-box-content\"><h3 class=\"portrait-link-box-heading\">Professional Development Program</h3><div>Info Lanjut</div></div></a></div></div></div></div><div class=\"section custom-padding-62px\"><div class=\"main-container\"><h4 class=\"large-heading section-title text-center custom-margin-bottom-60px\">Keunggulan Belajar di Hacktiv8<br/></h4><div class=\"w-layout-grid icons-left-grid-quarters\"><div class=\"div-block-5\"><img src=\"https://global-uploads.webflow.com/5f0d53c042a9ed6288de7f8d/5f0d53c0f62907406c0d52a6_user-chat-talk.svg\" alt=\"\" class=\"icon-vertical\"/><h6>Coding Bootcamp</h6><div class=\"text-small\">Siswa Full Stack Program akan difokuskan untuk belajar menjadi Full Stack Developer melalui program Immersive / Flex.<br/></div></div><div class=\"div-block-6\"><img src=\"https://global-uploads.webflow.com/5f0d53c042a9ed6288de7f8d/5f0d53c0f6290745420d5281_application-design-grid-layout.svg\" alt=\"\" class=\"icon-vertical\"/><h6>Growth Mindset</h6><div class=\"text-small\">Siswa kami selalu dibimbing dan dituntut memiliki <em>Growth Mindset</em> yang berguna untuk peningkatan karir di masa depan.</div></div><div class=\"div-block-7\"><img src=\"https://global-uploads.webflow.com/5f0d53c042a9ed6288de7f8d/5f0d53c0f62907d6b40d529f_screen-pc-smart-phone-iphone.svg\" alt=\"\" class=\"icon-vertical\"/><h6>Hiring Partner</h6><div class=\"text-small\">Kami bekerjasama dengan lebih dari 250 <em>Hiring Partner</em> yang siap merekrut lulusan Full Stack Program kami.</div></div><div class=\"div-block-8\"><img src=\"https://global-uploads.webflow.com/5f0d53c042a9ed6288de7f8d/5f0d53c0f6290703c50d5286_backpack-school.svg\" alt=\"\" class=\"icon-vertical\"/><h6>Relevant Skillset</h6><div class=\"text-small\">Kurikulum kami dibuat dan selalu disesuaikan dengan kebutuhan industri teknologi masa kini.</div></div></div></div></div><div class=\"section bg-primary-2 custom-padding-62px\"><div class=\"main-container\"><h4 class=\"large-heading text-center text-white\">Testimonial Alumni</h4><div class=\"w-layout-grid quotes-grid-quarters\"><div class=\"boxed small-quote-box shadow\"><img src=\"https://global-uploads.webflow.com/5f0d53c042a9ed6288de7f8d/5f167915c07a8c45cc226241_irshadi-bagas.jpg\" alt=\"\" class=\"avatar avatar-small quote-box-avatar\"/><div>âJangan takut mengejar mimpimu, semua orang bisa belajar programming di Hacktiv8â</div><div class=\"text-small quote-author\">Irshadi Bagas<br/>Alumni Full Stack JavaScript</div></div><div class=\"boxed small-quote-box shadow\"><img src=\"https://global-uploads.webflow.com/5f0d53c042a9ed6288de7f8d/5f608a9db96dd39a11bf055d_foto-08.png\" sizes=\"72px\" srcset=\"https://global-uploads.webflow.com/5f0d53c042a9ed6288de7f8d/5f608a9db96dd39a11bf055d_foto-08-p-500.png 500w, https://global-uploads.webflow.com/5f0d53c042a9ed6288de7f8d/5f608a9db96dd39a11bf055d_foto-08.png 601w\" alt=\"\" class=\"avatar avatar-small quote-box-avatar\"/><div>&quot;Di Hacktiv8, saya banyak belajar tentang coding hingga bisa berkarir di bidang teknologi&quot;</div><div class=\"text-small quote-author\">Paulina Davita<br/>Alumni Full Stack JavaScript</div></div><div class=\"boxed small-quote-box shadow\"><img src=\"https://global-uploads.webflow.com/5f0d53c042a9ed6288de7f8d/5f608d452027cff443113d2d_Untitled-1-07.png\" sizes=\"72px\" srcset=\"https://global-uploads.webflow.com/5f0d53c042a9ed6288de7f8d/5f608d452027cff443113d2d_Untitled-1-07-p-500.png 500w, https://global-uploads.webflow.com/5f0d53c042a9ed6288de7f8d/5f608d452027cff443113d2d_Untitled-1-07.png 501w\" alt=\"\" class=\"avatar avatar-small quote-box-avatar\"/><div>âTanpa background IT, saya dapat berkarir di bidang pemrograman setelah lulus dari Hacktiv8â</div><div class=\"text-small quote-author\"><span>Okka Linardi<br/>A</span>lumni Full Stack JavaScript</div></div><div class=\"boxed small-quote-box shadow\"><img src=\"https://global-uploads.webflow.com/5f0d53c042a9ed6288de7f8d/5f608b845d180625f42e2e9f_foto-06.png\" sizes=\"72px\" srcset=\"https://global-uploads.webflow.com/5f0d53c042a9ed6288de7f8d/5f608b845d180625f42e2e9f_foto-06-p-500.png 500w, https://global-uploads.webflow.com/5f0d53c042a9ed6288de7f8d/5f608b845d180625f42e2e9f_foto-06.png 601w\" alt=\"\" class=\"avatar avatar-small quote-box-avatar\"/><div>&quot;Setelah masuk Hacktiv8, saya mendapat pekerjaan yang lebih baik hingga bisa membantu ekonomi keluarga&quot;</div><div class=\"text-small quote-author\">Arona Nur Tetulis<br/>Alumni Full Stack JavaScript</div></div></div></div></div><div class=\"section bg-gray-3 custom-partner-logo-section-padding custom-padding-62px\"><div class=\"main-container bg-gray-3\"><div class=\"container-large wide align-center\"><div class=\"section-title text-center\"><h3 class=\"display-heading-2 text-gray-1 text-center custom-font-size-40\">Perusahaan yang Merekrut Lulusan Kami<br/></h3><div class=\"text-large text-gray-1 text-center\">Lulusan kami telah bekerja di lebih dari 250 perusahaan di seluruh Indonesia</div></div><div class=\"logo-row\"><img src=\"https://global-uploads.webflow.com/5f0d53c042a9ed6288de7f8d/5f61cf05a7229a34a5749210_Untitled-3-08.png\" alt=\"\" class=\"logo-row-item\"/><img src=\"https://global-uploads.webflow.com/5f0d53c042a9ed6288de7f8d/5f61cf18592499a8066b0ccf_logo-06.png\" alt=\"\" class=\"logo-row-item\"/><img src=\"https://global-uploads.webflow.com/5f0d53c042a9ed6288de7f8d/5f61cf28174153283eada1cd_logo-07.png\" alt=\"\" class=\"logo-row-item\"/><img src=\"https://global-uploads.webflow.com/5f0d53c042a9ed6288de7f8d/5f61cf3847ed4e0419ecf9ec_logo-04%20(3).png\" alt=\"\" class=\"logo-row-item\"/><img src=\"https://global-uploads.webflow.com/5f0d53c042a9ed6288de7f8d/5f61cf42929d4bedf9ac51f9_logo-05%20(2).png\" alt=\"\" class=\"logo-row-item\"/><img src=\"https://global-uploads.webflow.com/5f0d53c042a9ed6288de7f8d/5f61cf8582e42033c202840d_logo-01%20(1).png\" alt=\"\" class=\"logo-row-item\"/><img src=\"https://global-uploads.webflow.com/5f0d53c042a9ed6288de7f8d/5f61cf98004d5d2523949a7b_logo-02%20(2).png\" alt=\"\" class=\"logo-row-item\"/><img src=\"https://global-uploads.webflow.com/5f0d53c042a9ed6288de7f8d/5f605c98f960d4111d20c1d3_tanihub.png\" alt=\"\" class=\"logo-row-item\"/><img src=\"https://global-uploads.webflow.com/5f0d53c042a9ed6288de7f8d/5f61d50682e420781b083392_logo%20resize-12.png\" alt=\"\" class=\"logo-row-item\"/><img src=\"https://global-uploads.webflow.com/5f0d53c042a9ed6288de7f8d/5f61d4861e5ad262166f020a_logo%20resize-11.png\" alt=\"\" class=\"logo-row-item\"/><img src=\"https://global-uploads.webflow.com/5f0d53c042a9ed6288de7f8d/5f61d49222b0bd3bbc590e15_logo%20resize-10.png\" alt=\"\" class=\"logo-row-item\"/><img src=\"https://global-uploads.webflow.com/5f0d53c042a9ed6288de7f8d/5f61d4a4191efa8061ecf934_logo%20resize-09.png\" alt=\"\" class=\"logo-row-item\"/></div><div class=\"justify-content-center\"><a href=\"/employers\" class=\"button logo-row-button w-inline-block\"><div class=\"text-block-25\">Rekrut Lulusan Hacktiv8</div></a></div></div></div></div><div class=\"section bg-primary-2 custom-padding-62px\"><div class=\"main-container bg-primary-2\"><div data-animation=\"slide\" data-nav-spacing=\"4\" data-duration=\"500\" data-infinite=\"1\" class=\"quote-slider w-slider\"><div class=\"w-slider-mask\"><div class=\"w-slide\"><div class=\"container-large align-center justify-content-center\"><img src=\"https://global-uploads.webflow.com/5f0d53c042a9ed6288de7f8d/5f6c2bb9dbac044c1e7b91b7_homeframeqlue.png\" alt=\"\" class=\"avatar quote-avatar\"/><p class=\"text-center text-large text-white\">âWhat I love about Hacktiv8 graduates is the standard that they set for themselves. From their style of programming, you can see that they are able to easily follow the rhythm of our workflow and begin developing applications here.â<br/></p><div>Andre Hutagalung<br/> <strong>CTO &amp; Co-Founder of Qlue</strong><br/></div></div></div><div class=\"w-slide\"><div class=\"container-large align-center justify-content-center\"><img src=\"https://global-uploads.webflow.com/5f0d53c042a9ed6288de7f8d/5f6c2bc708292f69a2f1c145_homeframexendit.png\" alt=\"\" class=\"avatar quote-avatar\"/><p class=\"text-center text-large text-white\">&quot;We believe that there are many non traditional paths to success. Hacktiv8 empowers and rewards those who have the work ethic to be their best, even if they&#x27;ve never touched a line of code before.&quot;<br/></p><div> Moses Lo - CEO and Co-Founder Xendit.</div></div></div><div class=\"w-slide\"><div class=\"container-large align-center justify-content-center\"><img src=\"https://global-uploads.webflow.com/5f0d53c042a9ed6288de7f8d/5f6c2bd25093e5c35db51253_homeframetani.png\" alt=\"\" class=\"avatar quote-avatar\"/><p class=\"text-center text-large text-white\"><strong>&quot;Hacktiv8 graduates are very passionate because they have good logic and analytics. They can solved logic test from TaniHub and have so many portfolio which is one of the reason why we hired them.&quot;</strong><br/></p><div>Radika - HR TaniHub</div></div></div></div><div class=\"button-round bg-faded-white quote-slider-button w-slider-arrow-left\"><img src=\"https://global-uploads.webflow.com/5f0d53c042a9ed6288de7f8d/5f0d53c0f6290742970d523d_icon-chevron-left.svg\" alt=\"\"/></div><div class=\"button-round bg-faded-white quote-slider-button w-slider-arrow-right\"><img src=\"https://global-uploads.webflow.com/5f0d53c042a9ed6288de7f8d/5f0d53c0f62907753e0d523a_icon-chevron-right.svg\" alt=\"\"/></div><div class=\"relative-slider-nav w-slider-nav w-round\"></div></div></div></div><div class=\"section reduced-padding custom-margin bg-white custom-padding-62px\"><div class=\"main-container\"><div class=\"section-title text-center\"><div class=\"text-large text-center\"><strong class=\"text-center\">Hacktiv8 telah diliput oleh:</strong></div></div><div class=\"logo-row\"><a href=\"https://www.techinasia.com/hacktiv8-talent-gap-indonesia\" target=\"_blank\" class=\"w-inline-block\"><img src=\"https://global-uploads.webflow.com/5f0d53c042a9ed6288de7f8d/5f6c2b270b6cb110b7b70f8f_press-techinasia%20(1)%201.png\" alt=\"\" class=\"logo-row-item custom-width\"/></a><a href=\"https://kr-asia.com/hacktiv8-is-closing-the-tech-talent-gap-in-indonesia-startup-stories\" target=\"_blank\" class=\"w-inline-block\"><img src=\"https://global-uploads.webflow.com/5f0d53c042a9ed6288de7f8d/5f6c2b3536172e3f9c6ecc55_press-krasia%201.png\" alt=\"\" class=\"logo-row-item custom-width\"/></a><a href=\"https://www.dealstreetasia.com/stories/indonesia-hacktiv8-east-ventures-170484/\" target=\"_blank\" class=\"w-inline-block\"><img src=\"https://global-uploads.webflow.com/5f0d53c042a9ed6288de7f8d/5f6c46d75780257f0de9bec2_Frame%207.png\" alt=\"\" class=\"logo-row-item custom-width\"/></a><a href=\"https://theinsiderstories.com/indonesias-hacktiv8-raises-us3m-funding-led-by-east-ventures/\" target=\"_blank\" class=\"w-inline-block\"><img src=\"https://global-uploads.webflow.com/5f0d53c042a9ed6288de7f8d/5f6c2b6e4bdc517e17fa420b_insider.png\" alt=\"\" class=\"logo-row-item custom-width\"/></a><a href=\"https://www.digitalnewsasia.com/digital-economy/hacktiv8-raises-us3mil-pre-series-funding-led-east-ventures\" target=\"_blank\" class=\"w-inline-block\"><img src=\"https://global-uploads.webflow.com/5f0d53c042a9ed6288de7f8d/5f6c4715ad3df0226b312b75_Frame%208.png\" alt=\"\" class=\"logo-row-item custom-width\"/></a></div></div></div><div class=\"section custom-padding-62px homepage-corporate-training-section\"><div class=\"w-layout-grid grid-halves fullwidth-grid-halves reverse-direction\"><div id=\"w-node-_5a2d5577-b9af-df46-1eeb-13a93c6aeca3-ad4c83c5\" class=\"container align-center justify-content-left\"><h3 class=\"display-heading-3\">Corporate Training</h3><div class=\"text-large-2\">Tingkatkan performa tim Anda dengan mengikuti Corporate Training Hacktiv8. Dengan kurikulum terupdate, materi sesuai dengan kebutuhan terkini membuat pelatihan ini lebih praktis &amp; efisien untuk usaha memajukan perusahaan Anda.</div><div class=\"button-with-link-container-2\"><a href=\"/corporate-training\" class=\"button-2 w-inline-block\"><div>Hubungi Kami</div></a></div></div><img src=\"https://global-uploads.webflow.com/5f0d53c042a9ed6288de7f8d/5f867c6c2347406ccc6af8db_5f0d53c0f6290780d80d530b_square-03-p-1080.jpg\" sizes=\"(max-width: 479px) 92vw, (max-width: 767px) 45vw, (max-width: 1919px) 49vw, 612px\" srcset=\"https://global-uploads.webflow.com/5f0d53c042a9ed6288de7f8d/5f867c6c2347406ccc6af8db_5f0d53c0f6290780d80d530b_square-03-p-1080-p-500.jpeg 500w, https://global-uploads.webflow.com/5f0d53c042a9ed6288de7f8d/5f867c6c2347406ccc6af8db_5f0d53c0f6290780d80d530b_square-03-p-1080-p-800.jpeg 800w, https://global-uploads.webflow.com/5f0d53c042a9ed6288de7f8d/5f867c6c2347406ccc6af8db_5f0d53c0f6290780d80d530b_square-03-p-1080.jpg 1080w\" alt=\"\" class=\"rounded-right-large square-hero-image shadow-large custom-corporate-training-image\"/></div></div><div class=\"section image-background-section custom-section custom-padding-62px\"><img src=\"https://global-uploads.webflow.com/5f0d53c042a9ed6288de7f8d/5f647d58ac11477e32eefaa6_work-desk-with-laptop-and-working-setup-P5BLXWA.jpg\" sizes=\"100vw\" srcset=\"https://global-uploads.webflow.com/5f0d53c042a9ed6288de7f8d/5f647d58ac11477e32eefaa6_work-desk-with-laptop-and-working-setup-P5BLXWA-p-500.jpeg 500w, https://global-uploads.webflow.com/5f0d53c042a9ed6288de7f8d/5f647d58ac11477e32eefaa6_work-desk-with-laptop-and-working-setup-P5BLXWA-p-1080.jpeg 1080w, https://global-uploads.webflow.com/5f0d53c042a9ed6288de7f8d/5f647d58ac11477e32eefaa6_work-desk-with-laptop-and-working-setup-P5BLXWA.jpg 1440w\" alt=\"\" class=\"background-image faded\"/><div class=\"main-container text-center\"><div class=\"container-large wide align-center\"><div class=\"justify-content-center\"><h4 class=\"display-heading-2 text-white custom-font-size-40\">Mulai Karir di Bidang Teknologi</h4><div class=\"text-large text-center custom-text-color\">Saatnya untuk membangun karirmu di bidang teknologi. Mulai langkah awalmu untuk menjadi seorang Full Stack Developer bersama Hacktiv8.</div><div class=\"button-with-link-container\"><a href=\"/fullstack/remote\" class=\"button button-large w-inline-block\"><div class=\"text-block-26\">Daftar Sekarang</div></a><a href=\"mailto:halo@hacktiv8.com\" class=\"link-with-arrow adjacent-to-button w-inline-block\"><div class=\"text-white text-large\">Hubungi Kami</div><img src=\"https://global-uploads.webflow.com/5f0d53c042a9ed6288de7f8d/5f0d53c0f6290709c70d524d_icon-arrow-right-small.svg\" alt=\"\" class=\"link-arrow\"/></a></div></div></div></div></div><div class=\"section bg-gray-3 prakerja\"><div class=\"w-layout-grid grid-halves fullwidth-grid-halves reverse-direction\"><div id=\"w-node-_21902942-f36e-3908-7008-f0f2ed04b741-ad4c83c5\" class=\"container align-center justify-content-left\"><h3 class=\"display-heading-3\">Program Kartu Prakerja</h3><div class=\"text-large-2\">Hacktiv8 menjadi partner dalam program Kartu Prakerja. Kamu bisa mengikuti program Kartu Prakerja dengan cara mengunjungi <a href=\"/prakerja\"><strong>halaman berikut</strong></a> atau klik tombol di bawah.</div><div class=\"button-with-link-container-2\"><a href=\"/prakerja\" class=\"button-2 w-inline-block\"><div>Info Prakerja</div></a><a href=\"#\" class=\"link-with-arrow adjacent-to-button margin-left w-inline-block\"></a></div></div><img src=\"https://global-uploads.webflow.com/5f0d53c042a9ed6288de7f8d/5f7edb9037c15b52ada612bd_deskripsi-produk-2.jpg\" sizes=\"100vw\" srcset=\"https://global-uploads.webflow.com/5f0d53c042a9ed6288de7f8d/5f7edb9037c15b52ada612bd_deskripsi-produk-2-p-500.jpeg 500w, https://global-uploads.webflow.com/5f0d53c042a9ed6288de7f8d/5f7edb9037c15b52ada612bd_deskripsi-produk-2.jpg 720w\" alt=\"\" class=\"rounded-right-large square-hero-image shadow-large\"/></div></div><div class=\"footer-2\"><div class=\"main-container\"><div class=\"footer-2-top-row\"><div class=\"container-small\"><a href=\"#\" class=\"footer-2-logo w-inline-block\"><img src=\"https://global-uploads.webflow.com/5f0d53c042a9ed6288de7f8d/5f68150db527de25e82c86f1_Hacktiv8%20logo%20horizontal%2001%20black.png\" width=\"214\" sizes=\"(max-width: 479px) 85vw, 214px\" srcset=\"https://global-uploads.webflow.com/5f0d53c042a9ed6288de7f8d/5f68150db527de25e82c86f1_Hacktiv8%20logo%20horizontal%2001%20black-p-500.png 500w, https://global-uploads.webflow.com/5f0d53c042a9ed6288de7f8d/5f68150db527de25e82c86f1_Hacktiv8%20logo%20horizontal%2001%20black-p-800.png 800w, https://global-uploads.webflow.com/5f0d53c042a9ed6288de7f8d/5f68150db527de25e82c86f1_Hacktiv8%20logo%20horizontal%2001%20black-p-1080.png 1080w, https://global-uploads.webflow.com/5f0d53c042a9ed6288de7f8d/5f68150db527de25e82c86f1_Hacktiv8%20logo%20horizontal%2001%20black-p-1600.png 1600w, https://global-uploads.webflow.com/5f0d53c042a9ed6288de7f8d/5f68150db527de25e82c86f1_Hacktiv8%20logo%20horizontal%2001%20black.png 2727w\" alt=\"\" class=\"image-5\"/></a><div>HACKTIV8 adalah Program pembelajaran untuk pemula yang ingin menjadi seorang Full Stack Developer.</div></div><div class=\"footer-2-menus-container\"><div class=\"container-large align-center\"><div class=\"w-layout-grid footer-2-menus-grid\"><div><h6 class=\"footer-menu-heading\">Tentang Kami</h6><div class=\"w-layout-grid menu-grid-vertical\"><a href=\"#\" class=\"hover-link\">Full Stack Program</a><a href=\"/admissions\" class=\"hover-link\">Admission Info</a><a href=\"/outcomes\" class=\"hover-link\">CIRR Report</a><a href=\"/portfolios\" class=\"hover-link\">Portfolios</a><a href=\"https://blog.hacktiv8.com/\" target=\"_blank\" class=\"hover-link\">Blog</a><a href=\"https://hacktiv8.freshteam.com/jobs\" target=\"_blank\" class=\"hover-link\">Careers</a></div></div><div><h6 class=\"footer-menu-heading\">Partners</h6><div class=\"w-layout-grid menu-grid-vertical\"><a href=\"/employers\" class=\"hover-link\">Hire Our Grads</a><a href=\"/corporate-training\" class=\"hover-link\">Corporate Training</a><a href=\"/prakerja\" class=\"hover-link\">Info Prakerja</a></div></div><div><h6 class=\"footer-menu-heading\">Contact</h6><div class=\"w-layout-grid footer-2-contact-details\"><a href=\"mailto:halo@hacktiv8.com\" class=\"icon-horizontal w-inline-block\"><img src=\"https://global-uploads.webflow.com/5f0d53c042a9ed6288de7f8d/5f0d53c0f6290760df0d5253_envelope-small.svg\" alt=\"\"/><div class=\"icon-horizontal-heading reduced-margin\">halo@hacktiv8.com</div></a><a href=\"#\" class=\"icon-horizontal w-inline-block\"><img src=\"https://global-uploads.webflow.com/5f0d53c042a9ed6288de7f8d/5f0d53c0f629076f960d530a_phone-2-small.svg\" alt=\"\"/><div class=\"icon-horizontal-heading reduced-margin\">(021) 80675787</div></a><div>Jl. Sultan Iskandar Muda No.7 Kebayoran Lama. Jakarta Selatan. 12240.</div></div></div></div></div></div></div><div class=\"footer-bottom-row\"><div class=\"footer-bottom-links\"><div>Â© 2020 PT. Hacktivate Teknologi Indonesia Â Â Â Â Â Â Â </div><a href=\"/terms-of-service\" class=\"row-link\">Syarat dan Ketentuan</a><a href=\"/privacy-policy\" class=\"row-link\">Kebijakan Privasi</a></div><div class=\"social-links\"><a href=\"https://twitter.com/hacktiv8id\" target=\"_blank\" class=\"social-link hover-link w-inline-block\"><img src=\"https://global-uploads.webflow.com/5f0d53c042a9ed6288de7f8d/5f0d53c0f629075e420d5266_twitter.svg\" alt=\"\" class=\"social-link-image\"/></a><a href=\"https://www.facebook.com/hacktiv8id\" target=\"_blank\" class=\"social-link hover-link w-inline-block\"><img src=\"https://global-uploads.webflow.com/5f0d53c042a9ed6288de7f8d/5f0d53c0f6290739e40d5260_facebook.svg\" alt=\"\" class=\"social-link-image\"/></a><a href=\"https://instagram.com/hacktiv8id\" target=\"_blank\" class=\"social-link hover-link w-inline-block\"><img src=\"https://global-uploads.webflow.com/5f0d53c042a9ed6288de7f8d/5f0d53c0f62907e1790d525c_instagram.svg\" alt=\"\" class=\"social-link-image\"/></a><a href=\"https://www.youtube.com/c/hacktiv8\" target=\"_blank\" class=\"social-link hover-link w-inline-block\"><img src=\"https://global-uploads.webflow.com/5f0d53c042a9ed6288de7f8d/5f0d53c0f6290779ee0d526c_youtube.svg\" alt=\"\" class=\"social-link-image\"/></a></div></div></div></div><script src=\"https://d3e54v103j8qbb.cloudfront.net/js/jquery-3.5.1.min.dc5e7f18c8.js?site=5f0d53c042a9ed6288de7f8d\" type=\"text/javascript\" integrity=\"sha256-9/aliU8dGd2tb6OSsuzixeV4y/faTqgFtohetphbbj0=\" crossorigin=\"anonymous\"></script><script src=\"https://global-uploads.webflow.com/5f0d53c042a9ed6288de7f8d/js/webflow.91147062b.js\" type=\"text/javascript\"></script><!--[if lte IE 9]><script src=\"//cdnjs.cloudflare.com/ajax/libs/placeholders/3.0.2/placeholders.min.js\"></script><![endif]--><!-- Google Tag Manager (noscript) -->\n",
      "<noscript><iframe src=\"https://www.googletagmanager.com/ns.html?id=GTM-KJZ2C4\"\n",
      "height=\"0\" width=\"0\" style=\"display:none;visibility:hidden\"></iframe></noscript>\n",
      "<!-- End Google Tag Manager (noscript) -->\n",
      "\n",
      "\n",
      "\n",
      "<script>\n",
      "$(document).ready(function () {\n",
      "    var HACKTIV8_DOMAIN = 'https://hacktiv8.com';\n",
      "    var FACEBOOK_DOMAIN = 'https://www.facebook.com/';\n",
      "    var LIKEDIN_DOMAIN = 'https://www.linkedin.com/';\n",
      "    var GOOGLE_DOMAIN = 'www.google.com'\n",
      "    var TWITTER_DOMAIN = 'https://twitter.com/'\n",
      "    var pathname = window.location.pathname;\n",
      "    var url = new URL(window.location.href);\n",
      "    var utm_source = url.searchParams.get(\"utm_source\");\n",
      "    var referrer = document.referrer;\n",
      "  \tvar gclid_data = url.searchParams.get(\"gclid\");\n",
      "    \n",
      "  \n",
      "  \tif (gclid_data.length > 0){\n",
      "    \t  Cookies.set('gclid',gclid_data,{ \n",
      "                secure: false,\n",
      "                expires: 90,\n",
      "                domain: '.hacktiv8.com'\n",
      "            })\n",
      "    }\n",
      "  \t\n",
      "    // for attribution journey\n",
      "    var first_touches = [];\n",
      "    try {\n",
      "        first_touches = JSON.parse(Cookies.get('first_touches'));\n",
      "    } catch (e) {}\n",
      "\n",
      "    // if referrer is from Hacktiv8 domain\n",
      "    if (referrer.slice(0, HACKTIV8_DOMAIN.length) === HACKTIV8_DOMAIN) {\n",
      "        // DO NOTHING\n",
      "    }\n",
      "\n",
      "    // if referrer from other\n",
      "    if (referrer.slice(0, HACKTIV8_DOMAIN.length) !== HACKTIV8_DOMAIN) {\n",
      "        if (utm_source) {\n",
      "            // based on either organic or ads\n",
      "            if (utm_source && utm_source.toLowerCase() === 'google') {\n",
      "                // must be from google ads\n",
      "                first_touches.push('GOOGLE');\n",
      "            }\n",
      "\n",
      "            if (utm_source && utm_source.toLowerCase() === 'fba') {\n",
      "                // must be from facebook ads\n",
      "                first_touches.push('FBA');\n",
      "            }\n",
      "\n",
      "            if (utm_source && utm_source.toLowerCase() === 'email') {\n",
      "                // must be from email ads\n",
      "                first_touches.push('EMAIL');\n",
      "            }\n",
      "            if (utm_source && utm_source.toLowerCase() === 'instagram') {\n",
      "                // must be from instagram ads\n",
      "                first_touches.push('INSTAGRAM');\n",
      "            }\n",
      "            if (utm_source && utm_source.toLowerCase() === 'offline') {\n",
      "                // must be from offline ads\n",
      "                first_touches.push('OFFLINE');\n",
      "            }\n",
      "            if (utm_source && utm_source.toLowerCase() === 'lda') {\n",
      "                // must be from linkedin ads\n",
      "                first_touches.push('LDA');\n",
      "            }\n",
      "            if (utm_source && utm_source.toLowerCase() === 'twa') {\n",
      "                // must be from Twitter ads\n",
      "                first_touches.push('TWA');\n",
      "            }\n",
      "            if (utm_source && utm_source.toLowerCase() === 'rtb') {\n",
      "                // must be from Real Time Bidding ads\n",
      "                first_touches.push('RTB');\n",
      "            }\n",
      "            if (utm_source && utm_source.toLowerCase() === 'criteo') {\n",
      "                // must be from Criteo ads\n",
      "                first_touches.push('CRITEO');\n",
      "            }\n",
      "            if (utm_source && utm_source.toLowerCase() === 'referral') {\n",
      "                // must be from referral ads\n",
      "                first_touches.push('REFERRAL');\n",
      "            }\n",
      "            if (utm_source && utm_source.toLowerCase() === 'other') {\n",
      "                // must be from other ads\n",
      "                first_touches.push('OTHER');\n",
      "            }\n",
      "\n",
      "        }\n",
      "        \n",
      "        if (!utm_source && referrer.includes(GOOGLE_DOMAIN)) {\n",
      "            // ORGANIC\n",
      "            first_touches.push('ORGANIC');\n",
      "        }\n",
      "\n",
      "        if (!utm_source && referrer.includes(FACEBOOK_DOMAIN)) {\n",
      "            // FACEBOOK ORGANIC\n",
      "            first_touches.push('FBO');\n",
      "        }\n",
      "\n",
      "        if (!utm_source && referrer.includes(LIKEDIN_DOMAIN)) {\n",
      "            // LIKEDIN ORGANIC\n",
      "            first_touches.push('LBO');\n",
      "        }\n",
      "        \n",
      "        if (!utm_source && referrer.includes(TWITTER_DOMAIN)) {\n",
      "            // TWITTER ORGANIC\n",
      "            first_touches.push('TWO');\n",
      "        }\n",
      "\n",
      "        if (!utm_source && referrer.length === 0) {\n",
      "            // DIRECT\n",
      "            first_touches.push('DIRECT');\n",
      "        }\n",
      "\n",
      "        Cookies.set(\n",
      "            'first_touches',\n",
      "            JSON.stringify(first_touches),\n",
      "            { \n",
      "                secure: false,\n",
      "                expires: 90,\n",
      "                domain: '.hacktiv8.com'\n",
      "            }\n",
      "        );\n",
      "    }\n",
      "    \n",
      "    if (pathname.includes('/thankyou')) {\n",
      "        Cookies.remove(\"first_touches\");\n",
      "    };\n",
      "    if (pathname.includes('/process-payment')) {\n",
      "        Cookies.remove(\"first_touches\");\n",
      "    };\n",
      "});\n",
      "</script>\n",
      "\n",
      "\n",
      "\n",
      "<script>\n",
      "function getCookie(cname) {\n",
      "  var name = cname + \"=\";\n",
      "  var decodedCookie = decodeURIComponent(document.cookie);\n",
      "  var ca = decodedCookie.split(';');\n",
      "  for(var i = 0; i <ca.length; i++) {\n",
      "    var c = ca[i];\n",
      "    while (c.charAt(0) == ' ') {\n",
      "      c = c.substring(1);\n",
      "    }\n",
      "    if (c.indexOf(name) == 0) {\n",
      "      return c.substring(name.length, c.length);\n",
      "    }\n",
      "  }\n",
      "  return \"\";\n",
      "}\n",
      "  \n",
      "\n",
      "var els=document.getElementsByName(\"fbclickID\");\n",
      "for (var i=0;i<els.length;i++) {\n",
      "els[i].value = getCookie(\"_fbp\");}\n",
      "  \n",
      "var gls=document.getElementsByName(\"gclickID\");\n",
      "for (var i=0;i<gls.length;i++) {\n",
      "gls[i].value = getCookie(\"gclid\");}\n",
      "  \n",
      "</script>\n",
      "\n",
      "<script>\n",
      "(function(i,s,o,g,r,a,m){i['GoogleAnalyticsObject']=r;i[r]=i[r]||function(){\n",
      "(i[r].q=i[r].q||[]).push(arguments)},i[r].l=1*new Date();a=s.createElement(o),\n",
      "m=s.getElementsByTagName(o)[0];a.async=1;a.src=g;m.parentNode.insertBefore(a,m)\n",
      "})(window,document,'script','https://www.google-analytics.com/analytics.js','ga');\n",
      "ga('create', 'UA-75027356-1', 'auto');\n",
      "ga('send', 'pageview');\n",
      "</script></body></html>\n",
      "\n"
     ]
    }
   ],
   "source": [
    "print(response.text) # ini halaman html hacktiv8 nya"
   ]
  },
  {
   "cell_type": "code",
   "execution_count": null,
   "metadata": {},
   "outputs": [],
   "source": []
  }
 ],
 "metadata": {
  "kernelspec": {
   "display_name": "Python 3",
   "language": "python",
   "name": "python3"
  },
  "language_info": {
   "codemirror_mode": {
    "name": "ipython",
    "version": 3
   },
   "file_extension": ".py",
   "mimetype": "text/x-python",
   "name": "python",
   "nbconvert_exporter": "python",
   "pygments_lexer": "ipython3",
   "version": "3.8.5"
  }
 },
 "nbformat": 4,
 "nbformat_minor": 4
}
